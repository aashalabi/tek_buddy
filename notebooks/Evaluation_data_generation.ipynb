{
 "cells": [
  {
   "cell_type": "code",
   "execution_count": 38,
   "id": "3b66adc9-995a-4230-8389-0945151d8002",
   "metadata": {},
   "outputs": [],
   "source": [
    "import pandas as pd\n",
    "import numpy as np\n",
    "import json"
   ]
  },
  {
   "cell_type": "code",
   "execution_count": 2,
   "id": "2c78d7fb-61d6-462a-96e4-ddcd88da89d2",
   "metadata": {},
   "outputs": [],
   "source": [
    "df_all = pd.read_csv('..\\data\\data_cleaned.csv')"
   ]
  },
  {
   "cell_type": "code",
   "execution_count": 3,
   "id": "7d818343-36db-4e02-889c-8dd4030eafc7",
   "metadata": {},
   "outputs": [],
   "source": [
    "df_all = df_all.replace({np.nan: 'None'})"
   ]
  },
  {
   "cell_type": "code",
   "execution_count": 4,
   "id": "f050bc81-76ad-44a3-a32a-8ce65a92f3c2",
   "metadata": {},
   "outputs": [],
   "source": [
    "df_all['id'] = df_all['id'].astype(str)"
   ]
  },
  {
   "cell_type": "code",
   "execution_count": 9,
   "id": "4a474ed1-4352-471b-aee7-4e7e6a9d9ea1",
   "metadata": {},
   "outputs": [
    {
     "name": "stdout",
     "output_type": "stream",
     "text": [
      "<class 'pandas.core.frame.DataFrame'>\n",
      "RangeIndex: 352 entries, 0 to 351\n",
      "Data columns (total 7 columns):\n",
      " #   Column               Non-Null Count  Dtype \n",
      "---  ------               --------------  ----- \n",
      " 0   id                   352 non-null    object\n",
      " 1   equipment_type       352 non-null    object\n",
      " 2   equipment_name       352 non-null    object\n",
      " 3   maker                352 non-null    object\n",
      " 4   type_of_maintenance  352 non-null    object\n",
      " 5   frequency            352 non-null    object\n",
      " 6   parts_required       352 non-null    object\n",
      "dtypes: object(7)\n",
      "memory usage: 19.4+ KB\n"
     ]
    }
   ],
   "source": [
    "df_all.info()"
   ]
  },
  {
   "cell_type": "code",
   "execution_count": 10,
   "id": "05e30ca7-acec-4867-853a-bafeb2a0c62c",
   "metadata": {},
   "outputs": [
    {
     "data": {
      "text/plain": [
       "array(['Dishwasher', 'Refregerator'], dtype=object)"
      ]
     },
     "execution_count": 10,
     "metadata": {},
     "output_type": "execute_result"
    }
   ],
   "source": [
    "df_all['equipment_type'].unique()"
   ]
  },
  {
   "cell_type": "code",
   "execution_count": 11,
   "id": "34f69198-9940-4393-95c7-47545f190f3f",
   "metadata": {},
   "outputs": [
    {
     "data": {
      "text/html": [
       "<div>\n",
       "<style scoped>\n",
       "    .dataframe tbody tr th:only-of-type {\n",
       "        vertical-align: middle;\n",
       "    }\n",
       "\n",
       "    .dataframe tbody tr th {\n",
       "        vertical-align: top;\n",
       "    }\n",
       "\n",
       "    .dataframe thead th {\n",
       "        text-align: right;\n",
       "    }\n",
       "</style>\n",
       "<table border=\"1\" class=\"dataframe\">\n",
       "  <thead>\n",
       "    <tr style=\"text-align: right;\">\n",
       "      <th></th>\n",
       "      <th>id</th>\n",
       "      <th>equipment_type</th>\n",
       "      <th>equipment_name</th>\n",
       "      <th>maker</th>\n",
       "      <th>type_of_maintenance</th>\n",
       "      <th>frequency</th>\n",
       "      <th>parts_required</th>\n",
       "    </tr>\n",
       "  </thead>\n",
       "  <tbody>\n",
       "    <tr>\n",
       "      <th>0</th>\n",
       "      <td>0</td>\n",
       "      <td>Dishwasher</td>\n",
       "      <td>Series 6 SMS6ZCI48E</td>\n",
       "      <td>Bosch</td>\n",
       "      <td>Clean filter</td>\n",
       "      <td>Monthly</td>\n",
       "      <td>None</td>\n",
       "    </tr>\n",
       "    <tr>\n",
       "      <th>1</th>\n",
       "      <td>1</td>\n",
       "      <td>Dishwasher</td>\n",
       "      <td>WDT750SAKZ</td>\n",
       "      <td>Whirlpool</td>\n",
       "      <td>Descale</td>\n",
       "      <td>Quarterly</td>\n",
       "      <td>Descaling solution</td>\n",
       "    </tr>\n",
       "    <tr>\n",
       "      <th>2</th>\n",
       "      <td>2</td>\n",
       "      <td>Dishwasher</td>\n",
       "      <td>KDTM404KPS</td>\n",
       "      <td>KitchenAid</td>\n",
       "      <td>Check spray arms</td>\n",
       "      <td>Bi-monthly</td>\n",
       "      <td>None</td>\n",
       "    </tr>\n",
       "    <tr>\n",
       "      <th>3</th>\n",
       "      <td>3</td>\n",
       "      <td>Dishwasher</td>\n",
       "      <td>G 7316 SCU</td>\n",
       "      <td>Miele</td>\n",
       "      <td>Replace rinse aid</td>\n",
       "      <td>As needed</td>\n",
       "      <td>Rinse aid</td>\n",
       "    </tr>\n",
       "    <tr>\n",
       "      <th>4</th>\n",
       "      <td>4</td>\n",
       "      <td>Dishwasher</td>\n",
       "      <td>GDT665SSNSS</td>\n",
       "      <td>GE</td>\n",
       "      <td>Clean door seal</td>\n",
       "      <td>Monthly</td>\n",
       "      <td>Soft cloth</td>\n",
       "    </tr>\n",
       "  </tbody>\n",
       "</table>\n",
       "</div>"
      ],
      "text/plain": [
       "  id equipment_type       equipment_name       maker type_of_maintenance  \\\n",
       "0  0     Dishwasher  Series 6 SMS6ZCI48E       Bosch        Clean filter   \n",
       "1  1     Dishwasher           WDT750SAKZ   Whirlpool             Descale   \n",
       "2  2     Dishwasher           KDTM404KPS  KitchenAid    Check spray arms   \n",
       "3  3     Dishwasher           G 7316 SCU       Miele   Replace rinse aid   \n",
       "4  4     Dishwasher          GDT665SSNSS          GE     Clean door seal   \n",
       "\n",
       "    frequency      parts_required  \n",
       "0     Monthly                None  \n",
       "1   Quarterly  Descaling solution  \n",
       "2  Bi-monthly                None  \n",
       "3   As needed           Rinse aid  \n",
       "4     Monthly          Soft cloth  "
      ]
     },
     "execution_count": 11,
     "metadata": {},
     "output_type": "execute_result"
    }
   ],
   "source": [
    "df_all.head()"
   ]
  },
  {
   "cell_type": "code",
   "execution_count": 5,
   "id": "2b01e394-a226-4406-82c7-204985f038a2",
   "metadata": {},
   "outputs": [],
   "source": [
    "documents = df_all.to_dict(orient='records')"
   ]
  },
  {
   "cell_type": "code",
   "execution_count": 6,
   "id": "e69c5f3a-adea-4a0c-9448-4419733682c1",
   "metadata": {},
   "outputs": [],
   "source": [
    "import minsearch"
   ]
  },
  {
   "cell_type": "code",
   "execution_count": 7,
   "id": "8a9dc4d5-242c-4254-a914-3fabce369e14",
   "metadata": {},
   "outputs": [],
   "source": [
    "index = minsearch.Index(\n",
    "    text_fields=['id','equipment_type', 'equipment_name', 'maker', 'type_of_maintenance', 'frequency',\n",
    "       'parts_required'],\n",
    "    keyword_fields=[id]\n",
    ")"
   ]
  },
  {
   "cell_type": "code",
   "execution_count": 8,
   "id": "0105037f-b4ac-491f-9064-c95ddc02c23c",
   "metadata": {},
   "outputs": [
    {
     "data": {
      "text/plain": [
       "<minsearch.Index at 0x1b526511090>"
      ]
     },
     "execution_count": 8,
     "metadata": {},
     "output_type": "execute_result"
    }
   ],
   "source": [
    "index.fit(documents)"
   ]
  },
  {
   "cell_type": "code",
   "execution_count": 111,
   "id": "b2ceb970-1ae3-4853-8e3c-541081127b5d",
   "metadata": {},
   "outputs": [],
   "source": [
    "question = \"give me annual maintenance and required parts for Samsung Dishwasher\""
   ]
  },
  {
   "cell_type": "code",
   "execution_count": 112,
   "id": "bff4522e-f047-4307-b672-bb44bc78e23e",
   "metadata": {},
   "outputs": [],
   "source": [
    "boost = {'question':3.0, 'section':.5}\n",
    "#knowledge_results = index.search(query=question, filter_dict={'equipment_name':'DW80R7061UG'},\n",
    "#                       boost_dict=boost, num_results=5)\n",
    "#knowledge_results = index.search(query=question\n",
    "#                       boost_dict=boost, num_results=5)\n",
    "documents = index.search(query=question, num_results=5)"
   ]
  },
  {
   "cell_type": "code",
   "execution_count": 113,
   "id": "ceb4e3de-08af-4f53-a6dc-541dec15136d",
   "metadata": {},
   "outputs": [
    {
     "data": {
      "text/plain": [
       "[{'id': '55',\n",
       "  'equipment_type': 'Dishwasher',\n",
       "  'equipment_name': 'DW80R5061US',\n",
       "  'maker': 'Samsung',\n",
       "  'type_of_maintenance': 'Check for error codes',\n",
       "  'frequency': 'Monthly',\n",
       "  'parts_required': 'None'},\n",
       " {'id': '135',\n",
       "  'equipment_type': 'Dishwasher',\n",
       "  'equipment_name': 'DW80R5060US',\n",
       "  'maker': 'Samsung',\n",
       "  'type_of_maintenance': 'Check for error codes',\n",
       "  'frequency': 'Monthly',\n",
       "  'parts_required': 'None'},\n",
       " {'id': '189',\n",
       "  'equipment_type': 'Dishwasher',\n",
       "  'equipment_name': 'DW80R5061US',\n",
       "  'maker': 'Samsung',\n",
       "  'type_of_maintenance': 'Inspect and clean door hinges',\n",
       "  'frequency': 'Bi-annually',\n",
       "  'parts_required': 'None'},\n",
       " {'id': '159',\n",
       "  'equipment_type': 'Dishwasher',\n",
       "  'equipment_name': 'DW80R7070UG',\n",
       "  'maker': 'Samsung',\n",
       "  'type_of_maintenance': 'Inspect and clean sump filter',\n",
       "  'frequency': 'Monthly',\n",
       "  'parts_required': 'None'},\n",
       " {'id': '179',\n",
       "  'equipment_type': 'Dishwasher',\n",
       "  'equipment_name': 'DW80K7050UG',\n",
       "  'maker': 'Samsung',\n",
       "  'type_of_maintenance': 'Clean and sanitize door gasket',\n",
       "  'frequency': 'Monthly',\n",
       "  'parts_required': 'Sanitizing solution'}]"
      ]
     },
     "execution_count": 113,
     "metadata": {},
     "output_type": "execute_result"
    }
   ],
   "source": [
    "documents"
   ]
  },
  {
   "cell_type": "code",
   "execution_count": null,
   "id": "c0012d00-46be-4017-960e-5918be9af989",
   "metadata": {},
   "outputs": [],
   "source": [
    "equipment_name: {equipment_name},\n",
    "maker: {maker},\n",
    "type_of_maintenance: {type_of_maintenance},\n",
    "frequency: {frequency},\n",
    "parts_required: {parts_required}"
   ]
  },
  {
   "cell_type": "code",
   "execution_count": 59,
   "id": "2e52f67a-ea42-4039-abf5-7485d555a3eb",
   "metadata": {},
   "outputs": [
    {
     "data": {
      "text/plain": [
       "array(['DW80R9950UG', 'DW80R2031US', 'DW80R7061UG', 'DW80R5060US',\n",
       "       'DW80J3020US', 'DW80R5061US', 'DW80R9950UT', 'DW80R7061US',\n",
       "       'DW80J7550US', 'DW80R7070UG', 'DW80R9350UG', 'DW80K7050UG',\n",
       "       'DW80K5050US', 'RF23A9771SR', 'RF28R7351SR', 'RF23M8070SR',\n",
       "       'RF28R6301SR', 'RF23A9771SG', 'RF28T5001SR', 'RF28R7351SG',\n",
       "       'RF23M8090SG', 'RF28T5001SG'], dtype=object)"
      ]
     },
     "execution_count": 59,
     "metadata": {},
     "output_type": "execute_result"
    }
   ],
   "source": [
    "df_all[df_all['maker'] == 'Samsung']['equipment_name'].unique()"
   ]
  },
  {
   "cell_type": "code",
   "execution_count": 10,
   "id": "6b55d7f3-2ffc-4638-984c-bf943916ff12",
   "metadata": {},
   "outputs": [],
   "source": [
    "from openai import OpenAI\n",
    "import openai"
   ]
  },
  {
   "cell_type": "code",
   "execution_count": 11,
   "id": "a61ccfcd-d471-472c-9b09-7a79b46f378e",
   "metadata": {},
   "outputs": [],
   "source": [
    "import os\n",
    "from dotenv import load_dotenv\n",
    "from pathlib import Path\n",
    "\n",
    "env_path = Path('../.env')\n",
    "\n",
    "# Load the .env file\n",
    "load_dotenv(dotenv_path=env_path)\n",
    "\n",
    "# Get the API key\n",
    "openai_api_key = os.getenv(\"OPENAI_API_KEY\")\n",
    "\n",
    "\n",
    "#os.environ['OPENAI_API_KEY'] = openai_api_key\n",
    "client = OpenAI()"
   ]
  },
  {
   "cell_type": "code",
   "execution_count": 32,
   "id": "24cc1642-6929-41d0-97f6-61c807ca79a7",
   "metadata": {},
   "outputs": [],
   "source": [
    "def search(query):\n",
    "    boost = {} #{'question':3.0, 'section':.5}\n",
    "    knowledge_results = index.search(query=query, \n",
    "                                     filter_dict={}, #{'course':'data-engineering-zoomcamp'},\n",
    "                                     boost_dict=boost, num_results=10)\n",
    "    return knowledge_results"
   ]
  },
  {
   "cell_type": "code",
   "execution_count": 36,
   "id": "fbcd10ae-1436-4a12-a479-8070de546571",
   "metadata": {},
   "outputs": [],
   "source": [
    "entry_template = '''\n",
    "equipment_name: {equipment_name},\n",
    "maker: {maker},\n",
    "type_of_maintenance: {type_of_maintenance},\n",
    "frequency: {frequency},\n",
    "parts_required: {parts_required}\n",
    "'''.strip()\n",
    "def create_prompt(knowledge_results, query):\n",
    "    context=''\n",
    "    for doc in knowledge_results:\n",
    "        context = context + entry_template.format(**doc) + '\\n\\n'\n",
    "    prompt = f\"\"\"\n",
    "    You're a appliance repair assistant. Answer the user QUESTION based on CONTEXT - the documents retrieved from our database. \n",
    "    Only use the facts from the CONTEXT. If the CONTEXT doesn't contan the answer, return \"NONE\"\n",
    "                \n",
    "    QUESTION: {question}\n",
    "                \n",
    "    CONTEXT:\n",
    "                \n",
    "    {context}\n",
    "    \"\"\".strip()\n",
    "    prompt = prompt.format(question=query, context=context)\n",
    "    return prompt\n",
    "    "
   ]
  },
  {
   "cell_type": "code",
   "execution_count": 33,
   "id": "d7e61a99-a026-4305-861e-8dd5ce5241fb",
   "metadata": {},
   "outputs": [],
   "source": [
    "def llm(prompt, client, model='gpt-3.5-turbo'):\n",
    "    response = client.chat.completions.create(\n",
    "        model=model,    \n",
    "        messages=[{\"role\": \"user\", \"content\": prompt}]\n",
    "    )\n",
    "    return (response.choices[0].message.content)"
   ]
  },
  {
   "cell_type": "code",
   "execution_count": 34,
   "id": "5891846f-d155-4863-9855-412f52804bb8",
   "metadata": {},
   "outputs": [],
   "source": [
    "def rag(query, client):\n",
    "    knowledge_results = search(query)\n",
    "    prompt = create_prompt(knowledge_results, query)\n",
    "    return llm(prompt, client)"
   ]
  },
  {
   "cell_type": "code",
   "execution_count": 114,
   "id": "3588a627-699c-4e07-80fb-6fa665dcba43",
   "metadata": {},
   "outputs": [
    {
     "data": {
      "text/plain": [
       "'For the Samsung Dishwasher model DW80R5061US, the annual maintenance includes checking for error codes, and no parts are required.'"
      ]
     },
     "execution_count": 114,
     "metadata": {},
     "output_type": "execute_result"
    }
   ],
   "source": [
    "rag(question, client)"
   ]
  },
  {
   "cell_type": "code",
   "execution_count": 57,
   "id": "54e90571-2b62-4013-8e60-bd69c38b39b2",
   "metadata": {},
   "outputs": [],
   "source": [
    "#https://www.datacamp.com/tutorial/chromadb-tutorial-step-by-step-guide\n",
    "#https://www.datacamp.com/tutorial/introduction-to-text-embeddings-with-the-open-ai-api"
   ]
  },
  {
   "cell_type": "code",
   "execution_count": 61,
   "id": "6b4384f2-45c5-44dc-8324-9f249cc2a405",
   "metadata": {},
   "outputs": [],
   "source": [
    "import chromadb\n",
    "from chromadb.config import Settings\n",
    "\n",
    "\n",
    "client = chromadb.Client()"
   ]
  },
  {
   "cell_type": "markdown",
   "id": "fc6d4db9-eed2-4dd2-864c-1c257b4b1273",
   "metadata": {},
   "source": [
    "**Evaluation**"
   ]
  },
  {
   "cell_type": "code",
   "execution_count": 61,
   "id": "2e14047e-3f67-4d61-a65b-fb94191b4c1c",
   "metadata": {},
   "outputs": [],
   "source": [
    "prompt_template = \"\"\"\n",
    "You emulate a technician who's using our assistant app.\n",
    "Formulate 5 questions this technician might ask based on a FAQ record. The record\n",
    "should contain the answer to the questions, and the questions should be complete and not too short.\n",
    "If possible, use as fewer words as possible from the record. \n",
    "\n",
    "The record:\n",
    "id:{id}\n",
    "equipment_name: {equipment_name}\n",
    "maker: {maker}\n",
    "type_of_maintenance: {type_of_maintenance}\n",
    "frequency: {frequency}\n",
    "parts_required: {parts_required}\n",
    "\n",
    "Provide the output in parsable JSON without using code blocks, ensuring all keys are properly quoted:\n",
    "\n",
    "{{\"Questions\": [\"question1\", \"question2\", ..., \"question5\"]}}\n",
    "After generating the JSON, please verify that all keys and string values are properly enclosed in double quotes.\n",
    "\"\"\".strip()"
   ]
  },
  {
   "cell_type": "code",
   "execution_count": 13,
   "id": "10e152b1-f34b-47ad-9187-e8913cd3b36d",
   "metadata": {},
   "outputs": [
    {
     "data": {
      "text/plain": [
       "{'id': '0',\n",
       " 'equipment_type': 'Dishwasher',\n",
       " 'equipment_name': 'Series 6 SMS6ZCI48E',\n",
       " 'maker': 'Bosch',\n",
       " 'type_of_maintenance': 'Clean filter',\n",
       " 'frequency': 'Monthly',\n",
       " 'parts_required': 'None'}"
      ]
     },
     "execution_count": 13,
     "metadata": {},
     "output_type": "execute_result"
    }
   ],
   "source": [
    "documents[0]"
   ]
  },
  {
   "cell_type": "code",
   "execution_count": 25,
   "id": "7c8296aa-6db6-4b39-967a-830f5b1e3fb9",
   "metadata": {},
   "outputs": [
    {
     "name": "stdout",
     "output_type": "stream",
     "text": [
      "You emulate a technician who's using our assistant app.\n",
      "Formulate 5 questions this technician might ask based on a FAQ record. The record\n",
      "should contain the answer to the questions, and the questions should be complete and not too short.\n",
      "If possible, use as fewer words as possible from the record. \n",
      "\n",
      "The record:\n",
      "id:0\n",
      "equipment_name: Series 6 SMS6ZCI48E\n",
      "maker: Bosch\n",
      "type_of_maintenance: Clean filter\n",
      "frequency: Monthly\n",
      "parts_required: None\n",
      "\n",
      "Provide the output in parsable JSON without using code blocks:\n",
      "\n",
      "{\"Questions\": [\"question1\", \"question2\", ..., \"question5\"]}\n"
     ]
    }
   ],
   "source": [
    "print(prompt_template.format(**documents[0]))"
   ]
  },
  {
   "cell_type": "code",
   "execution_count": 27,
   "id": "8eff94ae-a03d-4d4a-bb96-1f5e196c0dbb",
   "metadata": {},
   "outputs": [
    {
     "name": "stdout",
     "output_type": "stream",
     "text": [
      "{\n",
      "  \"Questions\": [\n",
      "    \"What equipment name requires clean filter maintenance monthly with no parts required?\",\n",
      "    \"Which maker produces the Series 6 SMS6ZCI48E equipment?\",\n",
      "    \"How often should the filter be cleaned in the maintenance of the Series 6 SMS6ZCI48E equipment?\",\n",
      "    \"Are any parts required for the clean filter maintenance of the Series 6 SMS6ZCI48E equipment?\",\n",
      "    \"What type of maintenance is required for the Series 6 SMS6ZCI48E equipment?\"\n",
      "  ]\n",
      "}\n"
     ]
    }
   ],
   "source": [
    "print(llm(prompt_template.format(**documents[0]), client))"
   ]
  },
  {
   "cell_type": "code",
   "execution_count": 28,
   "id": "edba4970-c8be-40bd-a825-9d18dae748a7",
   "metadata": {},
   "outputs": [],
   "source": [
    "import json"
   ]
  },
  {
   "cell_type": "code",
   "execution_count": 29,
   "id": "adee050c-d0d9-44c8-a255-991658eb42f4",
   "metadata": {},
   "outputs": [],
   "source": [
    "llm_reply  = json.loads(llm(prompt_template.format(**documents[0]), client))"
   ]
  },
  {
   "cell_type": "code",
   "execution_count": 31,
   "id": "e0682969-7935-4631-8820-20971690dde1",
   "metadata": {},
   "outputs": [
    {
     "name": "stdout",
     "output_type": "stream",
     "text": [
      "{'Questions': ['What is the recommended maintenance for the Series 6 SMS6ZCI48E?', 'How often should the filter be cleaned on the Series 6 SMS6ZCI48E?', 'Does the maintenance of the Series 6 SMS6ZCI48E require any additional parts?', 'Who is the manufacturer of the Series 6 SMS6ZCI48E?', 'What type of equipment is the Series 6 SMS6ZCI48E?']}\n"
     ]
    }
   ],
   "source": [
    "print(llm_reply)"
   ]
  },
  {
   "cell_type": "code",
   "execution_count": 62,
   "id": "08ac2747-7a4b-42a6-b0b1-21913383670d",
   "metadata": {},
   "outputs": [],
   "source": [
    "from tqdm.auto import tqdm"
   ]
  },
  {
   "cell_type": "code",
   "execution_count": 37,
   "id": "d2e82ef6-40f6-4c71-ac09-926b2aaa96eb",
   "metadata": {},
   "outputs": [],
   "source": [
    "\n",
    "def generate_questions(document, client):\n",
    "        prompt = prompt_template.format(**document)\n",
    "        answer = llm(prompt, client)        \n",
    "        return answer\n",
    "        "
   ]
  },
  {
   "cell_type": "code",
   "execution_count": 63,
   "id": "9051a2ce-00f1-40e0-ae95-a818dbef3088",
   "metadata": {},
   "outputs": [
    {
     "data": {
      "application/vnd.jupyter.widget-view+json": {
       "model_id": "78b5aebb59f7407cb6399ee7e6dd2c9e",
       "version_major": 2,
       "version_minor": 0
      },
      "text/plain": [
       "  0%|          | 0/352 [00:00<?, ?it/s]"
      ]
     },
     "metadata": {},
     "output_type": "display_data"
    }
   ],
   "source": [
    "results = {}\n",
    "for doc in tqdm(documents): \n",
    "    id = doc['id']\n",
    "    if id in results:\n",
    "        continue\n",
    "\n",
    "    questions_raw = generate_questions(doc, client)\n",
    "    questions = json.loads(questions_raw)\n",
    "    results[id] = questions['Questions']"
   ]
  },
  {
   "cell_type": "code",
   "execution_count": 64,
   "id": "ba4933f2-0b2f-4080-8c1c-49af958e28b2",
   "metadata": {},
   "outputs": [
    {
     "data": {
      "text/plain": [
       "['What is the recommended frequency for cleaning the filter of a Bosch Series 6 SMS6ZCI48E?',\n",
       " 'Are any parts required for the maintenance of a Bosch Series 6 SMS6ZCI48E filter?',\n",
       " 'Which brand manufactures the Bosch Series 6 SMS6ZCI48E equipment?',\n",
       " 'What type of maintenance is recommended for the Bosch Series 6 SMS6ZCI48E equipment?',\n",
       " 'What is the equipment name of the Bosch model SMS6ZCI48E?']"
      ]
     },
     "execution_count": 64,
     "metadata": {},
     "output_type": "execute_result"
    }
   ],
   "source": [
    "results['0']"
   ]
  },
  {
   "cell_type": "code",
   "execution_count": 65,
   "id": "ecfaab96-28b9-450c-bd12-9732d4f7034d",
   "metadata": {},
   "outputs": [],
   "source": [
    "final_results = []\n",
    "\n",
    "for doc_id, questions in results.items():\n",
    "    for q in questions:\n",
    "        final_results.append((doc_id, q))"
   ]
  },
  {
   "cell_type": "code",
   "execution_count": 66,
   "id": "cc702119-f0af-4874-a636-c7f0e0bc4e50",
   "metadata": {},
   "outputs": [
    {
     "data": {
      "text/plain": [
       "('0',\n",
       " 'What is the recommended frequency for cleaning the filter of a Bosch Series 6 SMS6ZCI48E?')"
      ]
     },
     "execution_count": 66,
     "metadata": {},
     "output_type": "execute_result"
    }
   ],
   "source": [
    "final_results[0]"
   ]
  },
  {
   "cell_type": "code",
   "execution_count": 67,
   "id": "71c653c7-cc97-4fb4-9a43-6159137f6b24",
   "metadata": {},
   "outputs": [],
   "source": [
    "df_results = pd.DataFrame(final_results, columns=['id', 'question'])"
   ]
  },
  {
   "cell_type": "code",
   "execution_count": 99,
   "id": "3f9bd657-f6e0-4a31-a196-8c57c6cc13a2",
   "metadata": {},
   "outputs": [
    {
     "name": "stdout",
     "output_type": "stream",
     "text": [
      "<class 'pandas.core.frame.DataFrame'>\n",
      "RangeIndex: 1756 entries, 0 to 1755\n",
      "Data columns (total 2 columns):\n",
      " #   Column    Non-Null Count  Dtype \n",
      "---  ------    --------------  ----- \n",
      " 0   id        1756 non-null   object\n",
      " 1   question  1756 non-null   object\n",
      "dtypes: object(2)\n",
      "memory usage: 27.6+ KB\n"
     ]
    }
   ],
   "source": [
    "df_results.info()"
   ]
  },
  {
   "cell_type": "code",
   "execution_count": 105,
   "id": "7922759c-99f1-45dd-9edf-f08ddaea497a",
   "metadata": {},
   "outputs": [],
   "source": [
    "df_results['id'] = df_results['id'].astype(str)"
   ]
  },
  {
   "cell_type": "code",
   "execution_count": 106,
   "id": "86fa1970-36a9-4cf6-956d-f172f3d133ed",
   "metadata": {},
   "outputs": [
    {
     "data": {
      "text/html": [
       "<div>\n",
       "<style scoped>\n",
       "    .dataframe tbody tr th:only-of-type {\n",
       "        vertical-align: middle;\n",
       "    }\n",
       "\n",
       "    .dataframe tbody tr th {\n",
       "        vertical-align: top;\n",
       "    }\n",
       "\n",
       "    .dataframe thead th {\n",
       "        text-align: right;\n",
       "    }\n",
       "</style>\n",
       "<table border=\"1\" class=\"dataframe\">\n",
       "  <thead>\n",
       "    <tr style=\"text-align: right;\">\n",
       "      <th></th>\n",
       "      <th>id</th>\n",
       "      <th>question</th>\n",
       "    </tr>\n",
       "  </thead>\n",
       "  <tbody>\n",
       "    <tr>\n",
       "      <th>0</th>\n",
       "      <td>0</td>\n",
       "      <td>What is the recommended frequency for cleaning...</td>\n",
       "    </tr>\n",
       "    <tr>\n",
       "      <th>1</th>\n",
       "      <td>0</td>\n",
       "      <td>Are any parts required for the maintenance of ...</td>\n",
       "    </tr>\n",
       "    <tr>\n",
       "      <th>2</th>\n",
       "      <td>0</td>\n",
       "      <td>Which brand manufactures the Bosch Series 6 SM...</td>\n",
       "    </tr>\n",
       "    <tr>\n",
       "      <th>3</th>\n",
       "      <td>0</td>\n",
       "      <td>What type of maintenance is recommended for th...</td>\n",
       "    </tr>\n",
       "    <tr>\n",
       "      <th>4</th>\n",
       "      <td>0</td>\n",
       "      <td>What is the equipment name of the Bosch model ...</td>\n",
       "    </tr>\n",
       "  </tbody>\n",
       "</table>\n",
       "</div>"
      ],
      "text/plain": [
       "  id                                           question\n",
       "0  0  What is the recommended frequency for cleaning...\n",
       "1  0  Are any parts required for the maintenance of ...\n",
       "2  0  Which brand manufactures the Bosch Series 6 SM...\n",
       "3  0  What type of maintenance is recommended for th...\n",
       "4  0  What is the equipment name of the Bosch model ..."
      ]
     },
     "execution_count": 106,
     "metadata": {},
     "output_type": "execute_result"
    }
   ],
   "source": [
    "df_results.head()"
   ]
  },
  {
   "cell_type": "code",
   "execution_count": 107,
   "id": "a0e46b50-7876-40f8-ade2-fa649b8fac42",
   "metadata": {},
   "outputs": [],
   "source": [
    "import csv\n",
    "df_results.to_csv('../data/ground-truth-retrieval.csv', index=False, quoting=csv.QUOTE_NONNUMERIC, quotechar='\"')"
   ]
  },
  {
   "cell_type": "markdown",
   "id": "d1722972-7f7f-4e03-b472-2ffa5ea5a331",
   "metadata": {},
   "source": [
    "**Retreival Evaluation**"
   ]
  },
  {
   "cell_type": "code",
   "execution_count": 13,
   "id": "91da7f59-c38f-4bf6-969d-de321c1a79d9",
   "metadata": {},
   "outputs": [],
   "source": [
    "df_question = pd.read_csv('../data/ground-truth-retrieval.csv')"
   ]
  },
  {
   "cell_type": "code",
   "execution_count": 14,
   "id": "e10cba36-2388-4dd4-a4e5-50374a6be81f",
   "metadata": {},
   "outputs": [
    {
     "data": {
      "text/html": [
       "<div>\n",
       "<style scoped>\n",
       "    .dataframe tbody tr th:only-of-type {\n",
       "        vertical-align: middle;\n",
       "    }\n",
       "\n",
       "    .dataframe tbody tr th {\n",
       "        vertical-align: top;\n",
       "    }\n",
       "\n",
       "    .dataframe thead th {\n",
       "        text-align: right;\n",
       "    }\n",
       "</style>\n",
       "<table border=\"1\" class=\"dataframe\">\n",
       "  <thead>\n",
       "    <tr style=\"text-align: right;\">\n",
       "      <th></th>\n",
       "      <th>id</th>\n",
       "      <th>question</th>\n",
       "    </tr>\n",
       "  </thead>\n",
       "  <tbody>\n",
       "    <tr>\n",
       "      <th>0</th>\n",
       "      <td>0</td>\n",
       "      <td>What is the recommended frequency for cleaning...</td>\n",
       "    </tr>\n",
       "    <tr>\n",
       "      <th>1</th>\n",
       "      <td>0</td>\n",
       "      <td>Are any parts required for the maintenance of ...</td>\n",
       "    </tr>\n",
       "    <tr>\n",
       "      <th>2</th>\n",
       "      <td>0</td>\n",
       "      <td>Which brand manufactures the Bosch Series 6 SM...</td>\n",
       "    </tr>\n",
       "    <tr>\n",
       "      <th>3</th>\n",
       "      <td>0</td>\n",
       "      <td>What type of maintenance is recommended for th...</td>\n",
       "    </tr>\n",
       "    <tr>\n",
       "      <th>4</th>\n",
       "      <td>0</td>\n",
       "      <td>What is the equipment name of the Bosch model ...</td>\n",
       "    </tr>\n",
       "  </tbody>\n",
       "</table>\n",
       "</div>"
      ],
      "text/plain": [
       "   id                                           question\n",
       "0   0  What is the recommended frequency for cleaning...\n",
       "1   0  Are any parts required for the maintenance of ...\n",
       "2   0  Which brand manufactures the Bosch Series 6 SM...\n",
       "3   0  What type of maintenance is recommended for th...\n",
       "4   0  What is the equipment name of the Bosch model ..."
      ]
     },
     "execution_count": 14,
     "metadata": {},
     "output_type": "execute_result"
    }
   ],
   "source": [
    "df_question.head()"
   ]
  },
  {
   "cell_type": "code",
   "execution_count": 15,
   "id": "2b5d5e4b-ce03-4401-a487-145dc67fca99",
   "metadata": {},
   "outputs": [],
   "source": [
    "df_question['id'] = df_question['id'].astype(str)"
   ]
  },
  {
   "cell_type": "code",
   "execution_count": 16,
   "id": "85c568ec-e05a-472b-b2c0-da80914e8f89",
   "metadata": {},
   "outputs": [
    {
     "name": "stdout",
     "output_type": "stream",
     "text": [
      "<class 'pandas.core.frame.DataFrame'>\n",
      "RangeIndex: 1756 entries, 0 to 1755\n",
      "Data columns (total 2 columns):\n",
      " #   Column    Non-Null Count  Dtype \n",
      "---  ------    --------------  ----- \n",
      " 0   id        1756 non-null   object\n",
      " 1   question  1756 non-null   object\n",
      "dtypes: object(2)\n",
      "memory usage: 27.6+ KB\n"
     ]
    }
   ],
   "source": [
    "df_question.info()"
   ]
  },
  {
   "cell_type": "code",
   "execution_count": 75,
   "id": "99bbf64d-faad-40ce-8c9f-efcad686ae24",
   "metadata": {},
   "outputs": [],
   "source": [
    "def hit_rate(relevance_total):\n",
    "    cnt = 0\n",
    "\n",
    "    for line in relevance_total:\n",
    "        if True in line:\n",
    "            cnt = cnt + 1\n",
    "\n",
    "    return cnt / len(relevance_total)\n",
    "\n",
    "def mrr(relevance_total):\n",
    "    total_score = 0.0\n",
    "\n",
    "    for line in relevance_total:\n",
    "        for rank in range(len(line)):\n",
    "            if line[rank] == True:\n",
    "                total_score = total_score + 1 / (rank + 1)\n",
    "\n",
    "    return total_score / len(relevance_total)"
   ]
  },
  {
   "cell_type": "code",
   "execution_count": 76,
   "id": "7f0d5a2b-b131-47bb-b71b-76184dfd9b20",
   "metadata": {},
   "outputs": [],
   "source": [
    "def minsearch_search(query):\n",
    "    boost = {}\n",
    "\n",
    "    results = index.search(\n",
    "        query=query,\n",
    "        filter_dict={},\n",
    "        boost_dict=boost,\n",
    "        num_results=10\n",
    "    )\n",
    "\n",
    "    return results"
   ]
  },
  {
   "cell_type": "code",
   "execution_count": 141,
   "id": "74d29fab-cb27-481d-862d-b72f4b1d0409",
   "metadata": {},
   "outputs": [],
   "source": [
    "def evaluate(ground_truth, search_function):\n",
    "    relevance_total = []\n",
    "\n",
    "    #for q in tqdm(ground_truth):\n",
    "    for q in tqdm(ground_truth):\n",
    "        \n",
    "        doc_id = q['id']\n",
    "        results = search_function(q)\n",
    "        relevance = [d['id'] == doc_id for d in results]\n",
    "        ''' print('query', q)\n",
    "        print('id', q['id'])\n",
    "        print(results)\n",
    "        print('type relevance', )\n",
    "        print(relevance)\n",
    "        break'''\n",
    "        relevance_total.append(relevance)\n",
    "        \n",
    "    return {\n",
    "        'hit_rate': hit_rate(relevance_total),\n",
    "        'mrr': mrr(relevance_total),\n",
    "    }"
   ]
  },
  {
   "cell_type": "code",
   "execution_count": 18,
   "id": "f83b378e-a3ca-41f2-b2af-49b1eb44c432",
   "metadata": {},
   "outputs": [],
   "source": [
    "ground_truth = df_question.to_dict(orient='records')"
   ]
  },
  {
   "cell_type": "code",
   "execution_count": 19,
   "id": "bbe5a4c5-06a0-4289-85d0-a50b907a083e",
   "metadata": {},
   "outputs": [
    {
     "data": {
      "text/plain": [
       "{'id': '0',\n",
       " 'question': 'What is the recommended frequency for cleaning the filter of a Bosch Series 6 SMS6ZCI48E?'}"
      ]
     },
     "execution_count": 19,
     "metadata": {},
     "output_type": "execute_result"
    }
   ],
   "source": [
    "ground_truth[0]"
   ]
  },
  {
   "cell_type": "code",
   "execution_count": 24,
   "id": "43a00e3c-91df-49f7-9974-7bd411ee0671",
   "metadata": {},
   "outputs": [],
   "source": [
    "from tqdm.auto import tqdm\n"
   ]
  },
  {
   "cell_type": "code",
   "execution_count": null,
   "id": "450e53c0-6126-4822-838a-45dc16532376",
   "metadata": {},
   "outputs": [],
   "source": []
  },
  {
   "cell_type": "code",
   "execution_count": 122,
   "id": "c745e699-baf5-4750-a048-8d94ac9a0a10",
   "metadata": {},
   "outputs": [
    {
     "data": {
      "application/vnd.jupyter.widget-view+json": {
       "model_id": "0a97d74498194d5a954a7fa5e7a8114e",
       "version_major": 2,
       "version_minor": 0
      },
      "text/plain": [
       "  0%|          | 0/1756 [00:00<?, ?it/s]"
      ]
     },
     "metadata": {},
     "output_type": "display_data"
    },
    {
     "data": {
      "text/plain": [
       "{'hit_rate': 0.8553530751708428, 'mrr': 0.6823731333839534}"
      ]
     },
     "execution_count": 122,
     "metadata": {},
     "output_type": "execute_result"
    }
   ],
   "source": [
    "evaluate(ground_truth, lambda q: search(q['question']))"
   ]
  },
  {
   "cell_type": "code",
   "execution_count": 149,
   "id": "87d08406-bc23-43ed-bfab-709a9800d6d4",
   "metadata": {},
   "outputs": [],
   "source": [
    "#!pip install hyperopt"
   ]
  },
  {
   "cell_type": "markdown",
   "id": "ad92e4c5-4630-4eba-9927-b14ab28861ae",
   "metadata": {},
   "source": [
    "## Finding the best parameters"
   ]
  },
  {
   "cell_type": "code",
   "execution_count": 126,
   "id": "03b786a9-6fcb-4714-81ce-c7c3eddd435f",
   "metadata": {},
   "outputs": [],
   "source": [
    "from hyperopt import fmin, tpe, hp, STATUS_OK, Trials\n",
    "from hyperopt.pyll import scope"
   ]
  },
  {
   "cell_type": "code",
   "execution_count": 127,
   "id": "542e6bb8-71db-4872-a452-7c3b06d49d0c",
   "metadata": {},
   "outputs": [
    {
     "data": {
      "text/plain": [
       "1756"
      ]
     },
     "execution_count": 127,
     "metadata": {},
     "output_type": "execute_result"
    }
   ],
   "source": [
    "len(df_question)"
   ]
  },
  {
   "cell_type": "code",
   "execution_count": 129,
   "id": "5736fb63-c29f-43b4-8116-a6e734d4a706",
   "metadata": {},
   "outputs": [],
   "source": [
    "df_validation = df_question[:int(len(df_question)/2)]\n",
    "df_test = df_question[int(len(df_question)/2):]"
   ]
  },
  {
   "cell_type": "code",
   "execution_count": 130,
   "id": "a7e7aedf-5c2a-44da-8c71-b5af5bcbb462",
   "metadata": {},
   "outputs": [],
   "source": [
    "import random\n",
    "\n",
    "def simple_optimize(param_ranges, objective_function, n_iterations=10):\n",
    "    best_params = None\n",
    "    best_score = float('-inf')  # Assuming we're minimizing. Use float('-inf') if maximizing.\n",
    "\n",
    "    for _ in range(n_iterations):\n",
    "        # Generate random parameters\n",
    "        current_params = {}\n",
    "        for param, (min_val, max_val) in param_ranges.items():\n",
    "            if isinstance(min_val, int) and isinstance(max_val, int):\n",
    "                current_params[param] = random.randint(min_val, max_val)\n",
    "            else:\n",
    "                current_params[param] = random.uniform(min_val, max_val)\n",
    "        \n",
    "        # Evaluate the objective function\n",
    "        current_score = objective_function(current_params)\n",
    "        \n",
    "        # Update best if current is better\n",
    "        if current_score > best_score:  # Change to > if maximizing\n",
    "            best_score = current_score\n",
    "            best_params = current_params\n",
    "    \n",
    "    return best_params, best_score"
   ]
  },
  {
   "cell_type": "code",
   "execution_count": 131,
   "id": "35d55391-852b-4223-ba88-48aa340430a1",
   "metadata": {},
   "outputs": [],
   "source": [
    "gt_val = df_validation.to_dict(orient='records')"
   ]
  },
  {
   "cell_type": "code",
   "execution_count": 132,
   "id": "d11d1e9c-80c7-4dd3-8c9f-2420bf4e318e",
   "metadata": {},
   "outputs": [],
   "source": [
    "def minsearch_search(query, boost=None):\n",
    "    if boost is None:\n",
    "        boost = {}\n",
    "\n",
    "    results = index.search(\n",
    "        query=query,\n",
    "        filter_dict={},\n",
    "        boost_dict=boost,\n",
    "        num_results=10\n",
    "    )\n",
    "\n",
    "    return results"
   ]
  },
  {
   "cell_type": "code",
   "execution_count": 136,
   "id": "0d4f4924-fedb-4d30-9c0a-cfa1d0622372",
   "metadata": {},
   "outputs": [],
   "source": [
    "param_ranges = {\n",
    "    'equipment_name': (0.0, 3.0),\n",
    "    'maker': (0.0, 3.0),\n",
    "    'type_of_maintenance': (0.0, 3.0),\n",
    "    'frequency': (0.0, 3.0),\n",
    "    'parts_required': (0.0, 3.0),\n",
    "}"
   ]
  },
  {
   "cell_type": "code",
   "execution_count": 142,
   "id": "7b8bb86c-8eb9-4ea8-8a45-495687c8b298",
   "metadata": {},
   "outputs": [],
   "source": [
    "def objective(boost_params):\n",
    "    def search_function(q):\n",
    "        return minsearch_search(q['question'], boost_params)\n",
    "\n",
    "    results = evaluate(gt_val, search_function)\n",
    "    return results['mrr']"
   ]
  },
  {
   "cell_type": "code",
   "execution_count": 143,
   "id": "e5ae6b20-083c-432a-aa0f-e06d4659e1ab",
   "metadata": {},
   "outputs": [
    {
     "data": {
      "application/vnd.jupyter.widget-view+json": {
       "model_id": "aef2cbc577b74c8c9ec09064afafe1d1",
       "version_major": 2,
       "version_minor": 0
      },
      "text/plain": [
       "  0%|          | 0/878 [00:00<?, ?it/s]"
      ]
     },
     "metadata": {},
     "output_type": "display_data"
    },
    {
     "data": {
      "application/vnd.jupyter.widget-view+json": {
       "model_id": "27f48946031a4d3cbb94f93445abbb04",
       "version_major": 2,
       "version_minor": 0
      },
      "text/plain": [
       "  0%|          | 0/878 [00:00<?, ?it/s]"
      ]
     },
     "metadata": {},
     "output_type": "display_data"
    },
    {
     "data": {
      "application/vnd.jupyter.widget-view+json": {
       "model_id": "183f04b2279847cb85627c656a3da7af",
       "version_major": 2,
       "version_minor": 0
      },
      "text/plain": [
       "  0%|          | 0/878 [00:00<?, ?it/s]"
      ]
     },
     "metadata": {},
     "output_type": "display_data"
    },
    {
     "data": {
      "application/vnd.jupyter.widget-view+json": {
       "model_id": "bebddc2e21f4407eb9d916e2f7940adf",
       "version_major": 2,
       "version_minor": 0
      },
      "text/plain": [
       "  0%|          | 0/878 [00:00<?, ?it/s]"
      ]
     },
     "metadata": {},
     "output_type": "display_data"
    },
    {
     "data": {
      "application/vnd.jupyter.widget-view+json": {
       "model_id": "2eb058ae729d4e2487afb2fccbcd1b01",
       "version_major": 2,
       "version_minor": 0
      },
      "text/plain": [
       "  0%|          | 0/878 [00:00<?, ?it/s]"
      ]
     },
     "metadata": {},
     "output_type": "display_data"
    },
    {
     "data": {
      "application/vnd.jupyter.widget-view+json": {
       "model_id": "68792dc9b5c245998228148500282161",
       "version_major": 2,
       "version_minor": 0
      },
      "text/plain": [
       "  0%|          | 0/878 [00:00<?, ?it/s]"
      ]
     },
     "metadata": {},
     "output_type": "display_data"
    },
    {
     "data": {
      "application/vnd.jupyter.widget-view+json": {
       "model_id": "b65fb28c0eab4f49b4c09610d814bf4c",
       "version_major": 2,
       "version_minor": 0
      },
      "text/plain": [
       "  0%|          | 0/878 [00:00<?, ?it/s]"
      ]
     },
     "metadata": {},
     "output_type": "display_data"
    },
    {
     "data": {
      "application/vnd.jupyter.widget-view+json": {
       "model_id": "2ece1a6a89e34bef88a5a105fbed6e15",
       "version_major": 2,
       "version_minor": 0
      },
      "text/plain": [
       "  0%|          | 0/878 [00:00<?, ?it/s]"
      ]
     },
     "metadata": {},
     "output_type": "display_data"
    },
    {
     "data": {
      "application/vnd.jupyter.widget-view+json": {
       "model_id": "1fc3391cc5644a0d8d34d23cf8da7256",
       "version_major": 2,
       "version_minor": 0
      },
      "text/plain": [
       "  0%|          | 0/878 [00:00<?, ?it/s]"
      ]
     },
     "metadata": {},
     "output_type": "display_data"
    },
    {
     "data": {
      "application/vnd.jupyter.widget-view+json": {
       "model_id": "7758ce4afb014a37a1d7e4b081900318",
       "version_major": 2,
       "version_minor": 0
      },
      "text/plain": [
       "  0%|          | 0/878 [00:00<?, ?it/s]"
      ]
     },
     "metadata": {},
     "output_type": "display_data"
    },
    {
     "data": {
      "application/vnd.jupyter.widget-view+json": {
       "model_id": "0173f97b1c754d7db80bca4a22832430",
       "version_major": 2,
       "version_minor": 0
      },
      "text/plain": [
       "  0%|          | 0/878 [00:00<?, ?it/s]"
      ]
     },
     "metadata": {},
     "output_type": "display_data"
    },
    {
     "data": {
      "application/vnd.jupyter.widget-view+json": {
       "model_id": "aec276a5e4eb459eb0a20b9e05007358",
       "version_major": 2,
       "version_minor": 0
      },
      "text/plain": [
       "  0%|          | 0/878 [00:00<?, ?it/s]"
      ]
     },
     "metadata": {},
     "output_type": "display_data"
    },
    {
     "data": {
      "application/vnd.jupyter.widget-view+json": {
       "model_id": "7dedd6f320dd46038568822377578846",
       "version_major": 2,
       "version_minor": 0
      },
      "text/plain": [
       "  0%|          | 0/878 [00:00<?, ?it/s]"
      ]
     },
     "metadata": {},
     "output_type": "display_data"
    },
    {
     "data": {
      "application/vnd.jupyter.widget-view+json": {
       "model_id": "24699e6c37f14cef85d092bfde2fd1eb",
       "version_major": 2,
       "version_minor": 0
      },
      "text/plain": [
       "  0%|          | 0/878 [00:00<?, ?it/s]"
      ]
     },
     "metadata": {},
     "output_type": "display_data"
    },
    {
     "data": {
      "application/vnd.jupyter.widget-view+json": {
       "model_id": "35455bafa79a4f6cab2a04ca5e6bd019",
       "version_major": 2,
       "version_minor": 0
      },
      "text/plain": [
       "  0%|          | 0/878 [00:00<?, ?it/s]"
      ]
     },
     "metadata": {},
     "output_type": "display_data"
    },
    {
     "data": {
      "application/vnd.jupyter.widget-view+json": {
       "model_id": "8d43d598904a4352a75acbcac0867345",
       "version_major": 2,
       "version_minor": 0
      },
      "text/plain": [
       "  0%|          | 0/878 [00:00<?, ?it/s]"
      ]
     },
     "metadata": {},
     "output_type": "display_data"
    },
    {
     "data": {
      "application/vnd.jupyter.widget-view+json": {
       "model_id": "863dac6e09c94b59a43cf4af955fe55e",
       "version_major": 2,
       "version_minor": 0
      },
      "text/plain": [
       "  0%|          | 0/878 [00:00<?, ?it/s]"
      ]
     },
     "metadata": {},
     "output_type": "display_data"
    },
    {
     "data": {
      "application/vnd.jupyter.widget-view+json": {
       "model_id": "f0cb0bb572ef4e028abd8894e72d6b24",
       "version_major": 2,
       "version_minor": 0
      },
      "text/plain": [
       "  0%|          | 0/878 [00:00<?, ?it/s]"
      ]
     },
     "metadata": {},
     "output_type": "display_data"
    },
    {
     "data": {
      "application/vnd.jupyter.widget-view+json": {
       "model_id": "d25ef8d304ff4aeb923baac0622b6bd5",
       "version_major": 2,
       "version_minor": 0
      },
      "text/plain": [
       "  0%|          | 0/878 [00:00<?, ?it/s]"
      ]
     },
     "metadata": {},
     "output_type": "display_data"
    },
    {
     "data": {
      "application/vnd.jupyter.widget-view+json": {
       "model_id": "0a7d2a14bb68425aac035afa08aa3843",
       "version_major": 2,
       "version_minor": 0
      },
      "text/plain": [
       "  0%|          | 0/878 [00:00<?, ?it/s]"
      ]
     },
     "metadata": {},
     "output_type": "display_data"
    },
    {
     "data": {
      "text/plain": [
       "({'equipment_name': 2.2286308944548905,\n",
       "  'maker': 1.3065317502078608,\n",
       "  'type_of_maintenance': 2.7847555728963282,\n",
       "  'frequency': 0.4028772934987217,\n",
       "  'parts_required': 0.4007776344493833},\n",
       " 0.7214498137903603)"
      ]
     },
     "execution_count": 143,
     "metadata": {},
     "output_type": "execute_result"
    }
   ],
   "source": [
    "simple_optimize(param_ranges, objective, n_iterations=20)"
   ]
  },
  {
   "cell_type": "raw",
   "id": "cc621e5a-755f-4e7d-ae80-76a1de1ed177",
   "metadata": {},
   "source": [
    "Paramters and Boost after optimization\n",
    "\n",
    "({'equipment_name': 2.2286308944548905,\n",
    "  'maker': 1.3065317502078608,\n",
    "  'type_of_maintenance': 2.7847555728963282,\n",
    "  'frequency': 0.4028772934987217,\n",
    "  'parts_required': 0.4007776344493833},\n",
    " 0.7214498137903603)"
   ]
  },
  {
   "cell_type": "code",
   "execution_count": 147,
   "id": "334a3320-eb62-44ae-ab62-e2019b7bc642",
   "metadata": {},
   "outputs": [],
   "source": [
    "def minsearch_improved(query):\n",
    "    boost = {\n",
    "        'equipment_name': 2.2286308944548905,\n",
    "        'maker': 1.3065317502078608,\n",
    "        'type_of_maintenance': 2.7847555728963282,\n",
    "        'frequency': 0.4028772934987217,\n",
    "        'parts_required': 0.4007776344493833\n",
    "    }\n",
    "    \n",
    "    results = index.search(\n",
    "        query=query,\n",
    "        filter_dict={},\n",
    "        boost_dict=boost,\n",
    "        num_results=10\n",
    "    )\n",
    "\n",
    "    return results"
   ]
  },
  {
   "cell_type": "code",
   "execution_count": 148,
   "id": "9c58a19c-761b-4b68-9411-6a0e46ceeb49",
   "metadata": {},
   "outputs": [
    {
     "data": {
      "application/vnd.jupyter.widget-view+json": {
       "model_id": "0c7e1a6c9b1e433b82775d9a12509fab",
       "version_major": 2,
       "version_minor": 0
      },
      "text/plain": [
       "  0%|          | 0/1756 [00:00<?, ?it/s]"
      ]
     },
     "metadata": {},
     "output_type": "display_data"
    },
    {
     "data": {
      "text/plain": [
       "{'hit_rate': 0.8490888382687927, 'mrr': 0.7397254763712625}"
      ]
     },
     "execution_count": 148,
     "metadata": {},
     "output_type": "execute_result"
    }
   ],
   "source": [
    "evaluate(ground_truth, lambda q: minsearch_improved(q['question']))"
   ]
  },
  {
   "cell_type": "markdown",
   "id": "109aee63-8dae-4c59-8e83-f946c1d7dd05",
   "metadata": {},
   "source": [
    "## Evaluation, uusing LLM as Judge"
   ]
  },
  {
   "cell_type": "code",
   "execution_count": 17,
   "id": "dfa95d38-75d6-43b0-8d2b-53ee61bd9b56",
   "metadata": {},
   "outputs": [],
   "source": [
    "prompt2_template = \"\"\"\n",
    "You are an expert evaluator for a Retrieval-Augmented Generation (RAG) system.\n",
    "Your task is to analyze the relevance of the generated answer to the given question.\n",
    "Based on the relevance of the generated answer, you will classify it\n",
    "as \"NON_RELEVANT\", \"PARTLY_RELEVANT\", or \"RELEVANT\".\n",
    "\n",
    "Here is the data for evaluation:\n",
    "\n",
    "Question: {question}\n",
    "Generated Answer: {answer_llm}\n",
    "\n",
    "Please analyze the content and context of the generated answer in relation to the question\n",
    "and provide your evaluation in parsable JSON without using code blocks:\n",
    "\n",
    "{{\n",
    "  \"Relevance\": \"NON_RELEVANT\" | \"PARTLY_RELEVANT\" | \"RELEVANT\",\n",
    "  \"Explanation\": \"[Provide a brief explanation for your evaluation]\"\n",
    "}}\n",
    "\"\"\".strip()"
   ]
  },
  {
   "cell_type": "code",
   "execution_count": 153,
   "id": "7500d22c-75f7-4239-be0c-35aeafdda426",
   "metadata": {},
   "outputs": [
    {
     "data": {
      "text/plain": [
       "1756"
      ]
     },
     "execution_count": 153,
     "metadata": {},
     "output_type": "execute_result"
    }
   ],
   "source": [
    "len(ground_truth)"
   ]
  },
  {
   "cell_type": "code",
   "execution_count": 25,
   "id": "115ed897-2f12-4fa1-a185-387e7a6a050d",
   "metadata": {},
   "outputs": [
    {
     "data": {
      "text/plain": [
       "{'id': '0',\n",
       " 'question': 'What is the recommended frequency for cleaning the filter of a Bosch Series 6 SMS6ZCI48E?'}"
      ]
     },
     "execution_count": 25,
     "metadata": {},
     "output_type": "execute_result"
    }
   ],
   "source": [
    "record = ground_truth[0]\n",
    "record"
   ]
  },
  {
   "cell_type": "code",
   "execution_count": 167,
   "id": "00da256d-06a2-49bc-80e5-8c81ce254524",
   "metadata": {},
   "outputs": [],
   "source": [
    "question = record['question']\n",
    "answer_llm = rag(question, client)"
   ]
  },
  {
   "cell_type": "code",
   "execution_count": 170,
   "id": "8fd0ba17-9f93-42a1-8505-22b3ef3f71b3",
   "metadata": {},
   "outputs": [
    {
     "name": "stdout",
     "output_type": "stream",
     "text": [
      "You are an expert evaluator for a Retrieval-Augmented Generation (RAG) system.\n",
      "Your task is to analyze the relevance of the generated answer to the given question.\n",
      "Based on the relevance of the generated answer, you will classify it\n",
      "as \"NON_RELEVANT\", \"PARTLY_RELEVANT\", or \"RELEVANT\".\n",
      "\n",
      "Here is the data for evaluation:\n",
      "\n",
      "Question: What is the recommended frequency for cleaning the filter of a Bosch Series 6 SMS6ZCI48E?\n",
      "Generated Answer: The recommended frequency for cleaning the filter of a Bosch Series 6 SMS6ZCI48E is monthly.\n",
      "\n",
      "Please analyze the content and context of the generated answer in relation to the question\n",
      "and provide your evaluation in parsable JSON without using code blocks:\n",
      "\n",
      "{\n",
      "  \"Relevance\": \"NON_RELEVANT\" | \"PARTLY_RELEVANT\" | \"RELEVANT\",\n",
      "  \"Explanation\": \"[Provide a brief explanation for your evaluation]\"\n",
      "}\n"
     ]
    }
   ],
   "source": [
    "print(prompt2_template.format(question=question,answer_llm = answer_llm))"
   ]
  },
  {
   "cell_type": "code",
   "execution_count": 166,
   "id": "f4113f14-f23d-47d3-95da-533932c7d17b",
   "metadata": {},
   "outputs": [
    {
     "data": {
      "text/plain": [
       "'What is the recommended frequency for cleaning the filter of a Bosch Series 6 SMS6ZCI48E?'"
      ]
     },
     "execution_count": 166,
     "metadata": {},
     "output_type": "execute_result"
    }
   ],
   "source": [
    "question"
   ]
  },
  {
   "cell_type": "code",
   "execution_count": 172,
   "id": "4fd0396d-8797-494a-8346-6b4c1b813a4c",
   "metadata": {},
   "outputs": [
    {
     "data": {
      "text/plain": [
       "'The recommended frequency for cleaning the filter of a Bosch Series 6 SMS6ZCI48E dishwasher is every 2-3 months, or more frequently if you notice a decrease in performance or efficiency. Regular maintenance of the filter will help ensure optimal cleaning results and prolong the lifespan of your dishwasher.'"
      ]
     },
     "execution_count": 172,
     "metadata": {},
     "output_type": "execute_result"
    }
   ],
   "source": [
    "llm(question, client)"
   ]
  },
  {
   "cell_type": "code",
   "execution_count": 180,
   "id": "8f391a6a-2045-45f1-b74c-44b90b262d09",
   "metadata": {},
   "outputs": [],
   "source": [
    "evaluations = []\n",
    "\n",
    "for record in ground_truth:\n",
    "    question = record['question']\n",
    "    answer_llm = rag(question, client)\n",
    "\n",
    "    prompt = prompt2_template.format(\n",
    "        question=question,\n",
    "        answer_llm=answer_llm\n",
    "    )\n",
    "\n",
    "    evaluation = llm(prompt, client)\n",
    "    evaluation = json.loads(evaluation)\n",
    "\n",
    "    evaluations.append((record, answer_llm, evaluation))"
   ]
  },
  {
   "cell_type": "code",
   "execution_count": 181,
   "id": "c76f6828-a3ff-46ec-9346-22d69f557fb7",
   "metadata": {},
   "outputs": [
    {
     "data": {
      "text/plain": [
       "({'id': '0',\n",
       "  'question': 'What is the recommended frequency for cleaning the filter of a Bosch Series 6 SMS6ZCI48E?'},\n",
       " 'The recommended frequency for cleaning the filter of a Bosch Series 6 SMS6ZCI48E is monthly.',\n",
       " {'Relevance': 'RELEVANT',\n",
       "  'Explanation': 'The generated answer directly addresses the question by providing the recommended frequency for cleaning the filter of a Bosch Series 6 SMS6ZCI48E, which is monthly. This answer is relevant as it provides a specific and accurate response to the question.'})"
      ]
     },
     "execution_count": 181,
     "metadata": {},
     "output_type": "execute_result"
    }
   ],
   "source": [
    "evaluations[0]"
   ]
  },
  {
   "cell_type": "code",
   "execution_count": null,
   "id": "7549cbd0-7629-4e56-b4a2-9eed493a19a3",
   "metadata": {},
   "outputs": [],
   "source": [
    "gpt-3.5-turbo"
   ]
  },
  {
   "cell_type": "code",
   "execution_count": 182,
   "id": "ea1ddcc3-d7fc-4729-88ce-8ab17e84c20b",
   "metadata": {},
   "outputs": [],
   "source": [
    "df_eval = pd.DataFrame(evaluations, columns=['record', 'answer', 'evaluation'])\n",
    "\n",
    "df_eval['id'] = df_eval.record.apply(lambda d: d['id'])\n",
    "df_eval['question'] = df_eval.record.apply(lambda d: d['question'])\n",
    "\n",
    "df_eval['relevance'] = df_eval.evaluation.apply(lambda d: d['Relevance'])\n",
    "df_eval['explanation'] = df_eval.evaluation.apply(lambda d: d['Explanation'])\n",
    "\n",
    "del df_eval['record']\n",
    "del df_eval['evaluation']"
   ]
  },
  {
   "cell_type": "code",
   "execution_count": 183,
   "id": "1761a238-362d-42c1-86eb-5be019890802",
   "metadata": {},
   "outputs": [
    {
     "data": {
      "text/plain": [
       "relevance\n",
       "RELEVANT           0.428815\n",
       "PARTLY_RELEVANT    0.378132\n",
       "NON_RELEVANT       0.192483\n",
       "Non_Relevant       0.000569\n",
       "Name: proportion, dtype: float64"
      ]
     },
     "execution_count": 183,
     "metadata": {},
     "output_type": "execute_result"
    }
   ],
   "source": [
    "df_eval.relevance.value_counts(normalize=True)"
   ]
  },
  {
   "cell_type": "code",
   "execution_count": 184,
   "id": "e362a313-df9d-47e6-9fde-9b5c3e08d935",
   "metadata": {},
   "outputs": [
    {
     "data": {
      "text/html": [
       "<div>\n",
       "<style scoped>\n",
       "    .dataframe tbody tr th:only-of-type {\n",
       "        vertical-align: middle;\n",
       "    }\n",
       "\n",
       "    .dataframe tbody tr th {\n",
       "        vertical-align: top;\n",
       "    }\n",
       "\n",
       "    .dataframe thead th {\n",
       "        text-align: right;\n",
       "    }\n",
       "</style>\n",
       "<table border=\"1\" class=\"dataframe\">\n",
       "  <thead>\n",
       "    <tr style=\"text-align: right;\">\n",
       "      <th></th>\n",
       "      <th>answer</th>\n",
       "      <th>id</th>\n",
       "      <th>question</th>\n",
       "      <th>relevance</th>\n",
       "      <th>explanation</th>\n",
       "    </tr>\n",
       "  </thead>\n",
       "  <tbody>\n",
       "    <tr>\n",
       "      <th>18</th>\n",
       "      <td>As needed</td>\n",
       "      <td>3</td>\n",
       "      <td>How often should rinse aid be replaced for G 7...</td>\n",
       "      <td>NON_RELEVANT</td>\n",
       "      <td>The generated answer 'As needed' does not dire...</td>\n",
       "    </tr>\n",
       "    <tr>\n",
       "      <th>19</th>\n",
       "      <td>The parts required for replacing rinse aid on ...</td>\n",
       "      <td>3</td>\n",
       "      <td>What parts are required for replacing rinse ai...</td>\n",
       "      <td>NON_RELEVANT</td>\n",
       "      <td>The generated answer does not provide a list o...</td>\n",
       "    </tr>\n",
       "    <tr>\n",
       "      <th>23</th>\n",
       "      <td>PARTS REQUIRED: Soft cloth</td>\n",
       "      <td>4</td>\n",
       "      <td>What parts are required for cleaning the door ...</td>\n",
       "      <td>NON_RELEVANT</td>\n",
       "      <td>The generated answer only mentions a soft clot...</td>\n",
       "    </tr>\n",
       "    <tr>\n",
       "      <th>31</th>\n",
       "      <td>LG</td>\n",
       "      <td>6</td>\n",
       "      <td>Who is the manufacturer of the LDP6810SS equip...</td>\n",
       "      <td>NON_RELEVANT</td>\n",
       "      <td>The generated answer 'LG' does not directly ad...</td>\n",
       "    </tr>\n",
       "    <tr>\n",
       "      <th>42</th>\n",
       "      <td>For the FDPC4660AS equipment, the recommended ...</td>\n",
       "      <td>8</td>\n",
       "      <td>3. What type of maintenance is recommended for...</td>\n",
       "      <td>NON_RELEVANT</td>\n",
       "      <td>The generated answer provides specific instruc...</td>\n",
       "    </tr>\n",
       "    <tr>\n",
       "      <th>...</th>\n",
       "      <td>...</td>\n",
       "      <td>...</td>\n",
       "      <td>...</td>\n",
       "      <td>...</td>\n",
       "      <td>...</td>\n",
       "    </tr>\n",
       "    <tr>\n",
       "      <th>1732</th>\n",
       "      <td>The parts required for the maintenance of the ...</td>\n",
       "      <td>347</td>\n",
       "      <td>What parts are required for the maintenance of...</td>\n",
       "      <td>NON_RELEVANT</td>\n",
       "      <td>The generated answer only mentions a vinegar s...</td>\n",
       "    </tr>\n",
       "    <tr>\n",
       "      <th>1733</th>\n",
       "      <td>The equipment name for the maintenance task in...</td>\n",
       "      <td>347</td>\n",
       "      <td>What is the equipment name for the maintenance...</td>\n",
       "      <td>NON_RELEVANT</td>\n",
       "      <td>The generated answer does not directly address...</td>\n",
       "    </tr>\n",
       "    <tr>\n",
       "      <th>1747</th>\n",
       "      <td>Soft cloth.</td>\n",
       "      <td>350</td>\n",
       "      <td>What equipment is required to clean the conden...</td>\n",
       "      <td>NON_RELEVANT</td>\n",
       "      <td>The generated answer 'Soft cloth' is not relev...</td>\n",
       "    </tr>\n",
       "    <tr>\n",
       "      <th>1750</th>\n",
       "      <td>The parts required for cleaning the condenser ...</td>\n",
       "      <td>350</td>\n",
       "      <td>What parts are required for cleaning the conde...</td>\n",
       "      <td>NON_RELEVANT</td>\n",
       "      <td>The generated answer only mentions a soft clot...</td>\n",
       "    </tr>\n",
       "    <tr>\n",
       "      <th>1755</th>\n",
       "      <td>The parts required for checking the defrost li...</td>\n",
       "      <td>351</td>\n",
       "      <td>What parts are required for checking the defro...</td>\n",
       "      <td>NON_RELEVANT</td>\n",
       "      <td>The generated answer does not address the ques...</td>\n",
       "    </tr>\n",
       "  </tbody>\n",
       "</table>\n",
       "<p>338 rows × 5 columns</p>\n",
       "</div>"
      ],
      "text/plain": [
       "                                                 answer   id  \\\n",
       "18                                            As needed    3   \n",
       "19    The parts required for replacing rinse aid on ...    3   \n",
       "23                           PARTS REQUIRED: Soft cloth    4   \n",
       "31                                                   LG    6   \n",
       "42    For the FDPC4660AS equipment, the recommended ...    8   \n",
       "...                                                 ...  ...   \n",
       "1732  The parts required for the maintenance of the ...  347   \n",
       "1733  The equipment name for the maintenance task in...  347   \n",
       "1747                                        Soft cloth.  350   \n",
       "1750  The parts required for cleaning the condenser ...  350   \n",
       "1755  The parts required for checking the defrost li...  351   \n",
       "\n",
       "                                               question     relevance  \\\n",
       "18    How often should rinse aid be replaced for G 7...  NON_RELEVANT   \n",
       "19    What parts are required for replacing rinse ai...  NON_RELEVANT   \n",
       "23    What parts are required for cleaning the door ...  NON_RELEVANT   \n",
       "31    Who is the manufacturer of the LDP6810SS equip...  NON_RELEVANT   \n",
       "42    3. What type of maintenance is recommended for...  NON_RELEVANT   \n",
       "...                                                 ...           ...   \n",
       "1732  What parts are required for the maintenance of...  NON_RELEVANT   \n",
       "1733  What is the equipment name for the maintenance...  NON_RELEVANT   \n",
       "1747  What equipment is required to clean the conden...  NON_RELEVANT   \n",
       "1750  What parts are required for cleaning the conde...  NON_RELEVANT   \n",
       "1755  What parts are required for checking the defro...  NON_RELEVANT   \n",
       "\n",
       "                                            explanation  \n",
       "18    The generated answer 'As needed' does not dire...  \n",
       "19    The generated answer does not provide a list o...  \n",
       "23    The generated answer only mentions a soft clot...  \n",
       "31    The generated answer 'LG' does not directly ad...  \n",
       "42    The generated answer provides specific instruc...  \n",
       "...                                                 ...  \n",
       "1732  The generated answer only mentions a vinegar s...  \n",
       "1733  The generated answer does not directly address...  \n",
       "1747  The generated answer 'Soft cloth' is not relev...  \n",
       "1750  The generated answer only mentions a soft clot...  \n",
       "1755  The generated answer does not address the ques...  \n",
       "\n",
       "[338 rows x 5 columns]"
      ]
     },
     "execution_count": 184,
     "metadata": {},
     "output_type": "execute_result"
    }
   ],
   "source": [
    "df_eval[df_eval.relevance == 'NON_RELEVANT']"
   ]
  },
  {
   "cell_type": "code",
   "execution_count": 196,
   "id": "c0100d8b-46a4-45f0-92e9-e18f642b9711",
   "metadata": {},
   "outputs": [
    {
     "data": {
      "text/plain": [
       "answer         The parts required for cleaning the condenser ...\n",
       "id                                                           350\n",
       "question       What parts are required for cleaning the conde...\n",
       "relevance                                           NON_RELEVANT\n",
       "explanation    The generated answer only mentions a soft clot...\n",
       "Name: 1750, dtype: object"
      ]
     },
     "execution_count": 196,
     "metadata": {},
     "output_type": "execute_result"
    }
   ],
   "source": [
    "df_eval.loc[1750]"
   ]
  },
  {
   "cell_type": "code",
   "execution_count": 198,
   "id": "8cc6cee5-c423-494d-b583-c333bc10742e",
   "metadata": {},
   "outputs": [
    {
     "data": {
      "text/plain": [
       "'What parts are required for cleaning the condenser fan blade on the MFI2269FRZ?'"
      ]
     },
     "execution_count": 198,
     "metadata": {},
     "output_type": "execute_result"
    }
   ],
   "source": [
    "df_eval.loc[1750]['question']"
   ]
  },
  {
   "cell_type": "code",
   "execution_count": 197,
   "id": "8169c6e6-eef0-4431-938d-b79b6291d238",
   "metadata": {},
   "outputs": [
    {
     "data": {
      "text/plain": [
       "'The generated answer only mentions a soft cloth as the part required for cleaning the condenser fan blade, which is not accurate. The question asks for all the parts required, not just one.'"
      ]
     },
     "execution_count": 197,
     "metadata": {},
     "output_type": "execute_result"
    }
   ],
   "source": [
    "df_eval.loc[1750]['explanation']"
   ]
  },
  {
   "cell_type": "code",
   "execution_count": 185,
   "id": "3437d12e-6829-4dd6-bc4e-d773d387f03d",
   "metadata": {},
   "outputs": [],
   "source": [
    "df_eval.to_csv('../data/rag-eval-gpt-3.5-turbo_all.csv', index=False)"
   ]
  },
  {
   "cell_type": "code",
   "execution_count": 26,
   "id": "f8950f98-b127-4a5b-b71a-65354b61b0ef",
   "metadata": {},
   "outputs": [],
   "source": [
    "df_sample = df_question.sample(n=200, random_state=1)"
   ]
  },
  {
   "cell_type": "code",
   "execution_count": 27,
   "id": "3f75b2f9-1f72-4df8-9aef-c6f9871b3bc4",
   "metadata": {},
   "outputs": [],
   "source": [
    "sample = df_sample.to_dict(orient='records')"
   ]
  },
  {
   "cell_type": "code",
   "execution_count": 48,
   "id": "bd9f4297-ed2c-46e3-b98d-133ef602fb2f",
   "metadata": {},
   "outputs": [],
   "source": [
    "prompt3_template = \"\"\"\n",
    "You are an expert evaluator for a Retrieval-Augmented Generation (RAG) system.\n",
    "Your task is to analyze the relevance of the generated answer to the given question.\n",
    "Based on the relevance of the generated answer, you will classify it\n",
    "as \"NON_RELEVANT\", \"PARTLY_RELEVANT\", or \"RELEVANT\".\n",
    "\n",
    "Please classify valid company names as \"RELEVANT\" answer.\n",
    "Please consider part or parts required as \"RELEVANT\".\n",
    "Please consider answer \"RELEVANT\" as long answer doesn't conflict with technical facts about the machine.\n",
    "\n",
    "Here is the data for evaluation:\n",
    "\n",
    "Question: {question}\n",
    "Generated Answer: {answer_llm}\n",
    "\n",
    "Please analyze the content and context of the generated answer in relation to the question\n",
    "and provide your evaluation in parsable JSON without using code blocks:\n",
    "\n",
    "{{\n",
    "  \"Relevance\": \"NON_RELEVANT\" | \"PARTLY_RELEVANT\" | \"RELEVANT\",\n",
    "  \"Explanation\": \"[Provide a brief explanation for your evaluation]\"\n",
    "}}\n",
    "\"\"\".strip()"
   ]
  },
  {
   "cell_type": "code",
   "execution_count": 49,
   "id": "4e52e8db-dedb-4a66-9810-f43321f12359",
   "metadata": {},
   "outputs": [],
   "source": [
    "evaluations_sample = []\n",
    "\n",
    "for record in sample:\n",
    "    question = record['question']\n",
    "    answer_llm = rag(question, client)\n",
    "\n",
    "    prompt = prompt3_template.format(\n",
    "        question=question,\n",
    "        answer_llm=answer_llm\n",
    "    )\n",
    "\n",
    "    evaluation = llm(prompt, client)\n",
    "    evaluation = json.loads(evaluation)\n",
    "\n",
    "    evaluations_sample.append((record, answer_llm, evaluation))"
   ]
  },
  {
   "cell_type": "code",
   "execution_count": 50,
   "id": "b97eb338-e95b-4c1e-abb9-7ccf28519007",
   "metadata": {},
   "outputs": [],
   "source": [
    "df_eval_sample = pd.DataFrame(evaluations_sample, columns=['record', 'answer', 'evaluation'])\n",
    "\n",
    "df_eval_sample['id'] = df_eval_sample.record.apply(lambda d: d['id'])\n",
    "df_eval_sample['question'] = df_eval_sample.record.apply(lambda d: d['question'])\n",
    "\n",
    "df_eval_sample['relevance'] = df_eval_sample.evaluation.apply(lambda d: d['Relevance'])\n",
    "df_eval_sample['explanation'] = df_eval_sample.evaluation.apply(lambda d: d['Explanation'])\n",
    "\n",
    "del df_eval_sample['record']\n",
    "del df_eval_sample['evaluation']"
   ]
  },
  {
   "cell_type": "code",
   "execution_count": 51,
   "id": "58cd03ab-804a-45b4-a717-8870f7229d49",
   "metadata": {},
   "outputs": [
    {
     "data": {
      "text/plain": [
       "relevance\n",
       "PARTLY_RELEVANT    0.43\n",
       "RELEVANT           0.34\n",
       "NON_RELEVANT       0.23\n",
       "Name: proportion, dtype: float64"
      ]
     },
     "execution_count": 51,
     "metadata": {},
     "output_type": "execute_result"
    }
   ],
   "source": [
    "df_eval_sample.relevance.value_counts(normalize=True)"
   ]
  },
  {
   "cell_type": "code",
   "execution_count": 55,
   "id": "6771c97e-0cb8-488a-b76b-c7d255ce40d1",
   "metadata": {},
   "outputs": [
    {
     "data": {
      "text/html": [
       "<div>\n",
       "<style scoped>\n",
       "    .dataframe tbody tr th:only-of-type {\n",
       "        vertical-align: middle;\n",
       "    }\n",
       "\n",
       "    .dataframe tbody tr th {\n",
       "        vertical-align: top;\n",
       "    }\n",
       "\n",
       "    .dataframe thead th {\n",
       "        text-align: right;\n",
       "    }\n",
       "</style>\n",
       "<table border=\"1\" class=\"dataframe\">\n",
       "  <thead>\n",
       "    <tr style=\"text-align: right;\">\n",
       "      <th></th>\n",
       "      <th>answer</th>\n",
       "      <th>id</th>\n",
       "      <th>question</th>\n",
       "      <th>relevance</th>\n",
       "      <th>explanation</th>\n",
       "    </tr>\n",
       "  </thead>\n",
       "  <tbody>\n",
       "    <tr>\n",
       "      <th>12</th>\n",
       "      <td>The equipment that needs to be checked annuall...</td>\n",
       "      <td>301</td>\n",
       "      <td>What equipment needs to be checked annually?</td>\n",
       "      <td>NON_RELEVANT</td>\n",
       "      <td>The generated answer lists specific models of ...</td>\n",
       "    </tr>\n",
       "    <tr>\n",
       "      <th>13</th>\n",
       "      <td>Mild detergent</td>\n",
       "      <td>262</td>\n",
       "      <td>What parts are required for cleaning the exter...</td>\n",
       "      <td>NON_RELEVANT</td>\n",
       "      <td>The generated answer 'Mild detergent' does not...</td>\n",
       "    </tr>\n",
       "    <tr>\n",
       "      <th>19</th>\n",
       "      <td>The parts required for maintenance of the WRS5...</td>\n",
       "      <td>301</td>\n",
       "      <td>What parts are required for maintenance of WRS...</td>\n",
       "      <td>NON_RELEVANT</td>\n",
       "      <td>The answer provided, stating that a Multimeter...</td>\n",
       "    </tr>\n",
       "    <tr>\n",
       "      <th>21</th>\n",
       "      <td>The type of maintenance recommended for the Bo...</td>\n",
       "      <td>20</td>\n",
       "      <td>What type of maintenance is recommended for th...</td>\n",
       "      <td>NON_RELEVANT</td>\n",
       "      <td>The answer provided does not directly address ...</td>\n",
       "    </tr>\n",
       "    <tr>\n",
       "      <th>23</th>\n",
       "      <td>NONE. Inspecting the control board does not re...</td>\n",
       "      <td>59</td>\n",
       "      <td>Does inspecting the control board require any ...</td>\n",
       "      <td>NON_RELEVANT</td>\n",
       "      <td>The answer states that inspecting the control ...</td>\n",
       "    </tr>\n",
       "  </tbody>\n",
       "</table>\n",
       "</div>"
      ],
      "text/plain": [
       "                                               answer   id  \\\n",
       "12  The equipment that needs to be checked annuall...  301   \n",
       "13                                     Mild detergent  262   \n",
       "19  The parts required for maintenance of the WRS5...  301   \n",
       "21  The type of maintenance recommended for the Bo...   20   \n",
       "23  NONE. Inspecting the control board does not re...   59   \n",
       "\n",
       "                                             question     relevance  \\\n",
       "12       What equipment needs to be checked annually?  NON_RELEVANT   \n",
       "13  What parts are required for cleaning the exter...  NON_RELEVANT   \n",
       "19  What parts are required for maintenance of WRS...  NON_RELEVANT   \n",
       "21  What type of maintenance is recommended for th...  NON_RELEVANT   \n",
       "23  Does inspecting the control board require any ...  NON_RELEVANT   \n",
       "\n",
       "                                          explanation  \n",
       "12  The generated answer lists specific models of ...  \n",
       "13  The generated answer 'Mild detergent' does not...  \n",
       "19  The answer provided, stating that a Multimeter...  \n",
       "21  The answer provided does not directly address ...  \n",
       "23  The answer states that inspecting the control ...  "
      ]
     },
     "execution_count": 55,
     "metadata": {},
     "output_type": "execute_result"
    }
   ],
   "source": [
    "df_eval_sample[df_eval_sample.relevance == 'NON_RELEVANT'].head()"
   ]
  },
  {
   "cell_type": "code",
   "execution_count": 54,
   "id": "83e23869-dbe4-4989-a106-f85ee0b85f30",
   "metadata": {},
   "outputs": [
    {
     "data": {
      "text/plain": [
       "'The generated answer lists specific models of appliances from different brands without mentioning any general equipment that needs to be checked annually. It does not directly address the question asked.'"
      ]
     },
     "execution_count": 54,
     "metadata": {},
     "output_type": "execute_result"
    }
   ],
   "source": [
    "df_eval_sample[df_eval_sample.relevance == 'NON_RELEVANT'].loc[12]['explanation']"
   ]
  },
  {
   "cell_type": "code",
   "execution_count": 56,
   "id": "fcf9be51-e14b-481d-a75b-de2fe78d60c5",
   "metadata": {},
   "outputs": [
    {
     "data": {
      "text/plain": [
       "'The equipment that needs to be checked annually are the G 4228 SCU by Miele for inspecting spray arm seals and the LDP6810SS by LG for checking the water inlet valve.'"
      ]
     },
     "execution_count": 56,
     "metadata": {},
     "output_type": "execute_result"
    }
   ],
   "source": [
    "df_eval_sample[df_eval_sample.relevance == 'NON_RELEVANT'].loc[12]['answer']"
   ]
  },
  {
   "cell_type": "code",
   "execution_count": 57,
   "id": "189d205f-dcc9-4ac5-b23c-069898a964a4",
   "metadata": {},
   "outputs": [],
   "source": [
    "evaluations_sample_4mini = []\n",
    "\n",
    "for record in sample:\n",
    "    question = record['question']\n",
    "    answer_llm = rag(question, client)\n",
    "\n",
    "    prompt = prompt3_template.format(\n",
    "        question=question,\n",
    "        answer_llm=answer_llm\n",
    "    )\n",
    "\n",
    "    evaluation = llm(prompt, client, model='gpt-4o-mini')\n",
    "    evaluation = json.loads(evaluation)\n",
    "\n",
    "    evaluations_sample_4mini.append((record, answer_llm, evaluation))"
   ]
  },
  {
   "cell_type": "code",
   "execution_count": 58,
   "id": "e9a0a0e3-e36e-4335-bddc-683677010304",
   "metadata": {},
   "outputs": [],
   "source": [
    "df_eval_sample4mini = pd.DataFrame(evaluations_sample_4mini, columns=['record', 'answer', 'evaluation'])\n",
    "\n",
    "df_eval_sample4mini['id'] = df_eval_sample4mini.record.apply(lambda d: d['id'])\n",
    "df_eval_sample4mini['question'] = df_eval_sample4mini.record.apply(lambda d: d['question'])\n",
    "\n",
    "df_eval_sample4mini['relevance'] = df_eval_sample4mini.evaluation.apply(lambda d: d['Relevance'])\n",
    "df_eval_sample4mini['explanation'] = df_eval_sample4mini.evaluation.apply(lambda d: d['Explanation'])\n",
    "\n",
    "del df_eval_sample4mini['record']\n",
    "del df_eval_sample4mini['evaluation']"
   ]
  },
  {
   "cell_type": "code",
   "execution_count": 60,
   "id": "f4102e45-0b85-4871-8d9f-52f14dbe1e80",
   "metadata": {},
   "outputs": [
    {
     "data": {
      "text/plain": [
       "relevance\n",
       "RELEVANT           0.825\n",
       "PARTLY_RELEVANT    0.110\n",
       "NON_RELEVANT       0.065\n",
       "Name: proportion, dtype: float64"
      ]
     },
     "execution_count": 60,
     "metadata": {},
     "output_type": "execute_result"
    }
   ],
   "source": [
    "df_eval_sample4mini.relevance.value_counts(normalize=True)"
   ]
  },
  {
   "cell_type": "markdown",
   "id": "347b5c10-2536-44f2-9d3f-9b0032f334d9",
   "metadata": {},
   "source": [
    "## Ingestion"
   ]
  },
  {
   "cell_type": "code",
   "execution_count": 199,
   "id": "cbb74b36-43d4-4b1e-9f27-1aa6f38cb3ae",
   "metadata": {},
   "outputs": [
    {
     "data": {
      "text/plain": [
       "<minsearch.Index at 0x1b4e2644a90>"
      ]
     },
     "execution_count": 199,
     "metadata": {},
     "output_type": "execute_result"
    }
   ],
   "source": [
    "df_all = pd.read_csv('..\\data\\data_cleaned.csv')\n",
    "df_all = df_all.replace({np.nan: 'None'})\n",
    "df_all['id'] = df_all['id'].astype(str)\n",
    "documents = df_all.to_dict(orient='records')\n",
    "index = minsearch.Index(\n",
    "    text_fields=['id','equipment_type', 'equipment_name', 'maker', 'type_of_maintenance', 'frequency',\n",
    "       'parts_required'],\n",
    "    keyword_fields=[id]\n",
    ")\n",
    "index.fit(documents)"
   ]
  },
  {
   "cell_type": "code",
   "execution_count": 200,
   "id": "ce18ade4-8bf8-4d69-ac87-9bbcd726aec6",
   "metadata": {},
   "outputs": [],
   "source": [
    "#use search with boost paramters\n",
    "def minsearch_improved(query):\n",
    "    boost = {\n",
    "        'equipment_name': 2.2286308944548905,\n",
    "        'maker': 1.3065317502078608,\n",
    "        'type_of_maintenance': 2.7847555728963282,\n",
    "        'frequency': 0.4028772934987217,\n",
    "        'parts_required': 0.4007776344493833\n",
    "    }\n",
    "    \n",
    "    results = index.search(\n",
    "        query=query,\n",
    "        filter_dict={},\n",
    "        boost_dict=boost,\n",
    "        num_results=10\n",
    "    )\n",
    "\n",
    "    return results"
   ]
  },
  {
   "cell_type": "code",
   "execution_count": null,
   "id": "8c927080-685b-417a-916d-421da44e4555",
   "metadata": {},
   "outputs": [],
   "source": []
  }
 ],
 "metadata": {
  "kernelspec": {
   "display_name": "Python 3 (ipykernel)",
   "language": "python",
   "name": "python3"
  },
  "language_info": {
   "codemirror_mode": {
    "name": "ipython",
    "version": 3
   },
   "file_extension": ".py",
   "mimetype": "text/x-python",
   "name": "python",
   "nbconvert_exporter": "python",
   "pygments_lexer": "ipython3",
   "version": "3.10.6"
  }
 },
 "nbformat": 4,
 "nbformat_minor": 5
}
