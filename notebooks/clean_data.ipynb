{
 "cells": [
  {
   "cell_type": "code",
   "execution_count": 4,
   "id": "3b66adc9-995a-4230-8389-0945151d8002",
   "metadata": {},
   "outputs": [],
   "source": [
    "import pandas as pd\n",
    "import numpy as np"
   ]
  },
  {
   "cell_type": "code",
   "execution_count": 20,
   "id": "a9e16515-ea5b-4afe-9887-0370b94fca94",
   "metadata": {},
   "outputs": [],
   "source": [
    "df =pd.read_csv('..\\data\\dishwasher-maintenance.csv')\n",
    "df= df.drop_duplicates()\n",
    "df = df.reset_index(drop=True)\n",
    "df['Equipment type'] = 'Dishwasher'\n",
    "df = df.replace({np.nan: 'None'})\n",
    "df = df[['Equipment type', 'Equipment Name', 'Maker', 'Type of Maintenance', 'Frequency', 'Parts Required']]\n",
    "df.columns = df.columns.str.lower().str.replace(' ', '_')"
   ]
  },
  {
   "cell_type": "code",
   "execution_count": 21,
   "id": "9cef732b-9240-4cc9-9058-d34e562084a8",
   "metadata": {},
   "outputs": [
    {
     "name": "stdout",
     "output_type": "stream",
     "text": [
      "<class 'pandas.core.frame.DataFrame'>\n",
      "Index: 254 entries, 0 to 359\n",
      "Data columns (total 6 columns):\n",
      " #   Column               Non-Null Count  Dtype \n",
      "---  ------               --------------  ----- \n",
      " 0   equipment_type       254 non-null    object\n",
      " 1   equipment_name       254 non-null    object\n",
      " 2   maker                254 non-null    object\n",
      " 3   type_of_maintenance  254 non-null    object\n",
      " 4   frequency            254 non-null    object\n",
      " 5   parts_required       254 non-null    object\n",
      "dtypes: object(6)\n",
      "memory usage: 13.9+ KB\n"
     ]
    }
   ],
   "source": [
    "df.info()"
   ]
  },
  {
   "cell_type": "code",
   "execution_count": 22,
   "id": "5adebb86-70cd-42ef-b72c-6a06f25a660f",
   "metadata": {},
   "outputs": [],
   "source": [
    "df_r = pd.read_csv(r'..\\data\\refregerator_data.csv')\n",
    "df_r= df_r.drop_duplicates()\n",
    "df_r = df_r.reset_index(drop=True)\n",
    "df_r['Equipment type'] = 'Refregerator'\n",
    "df_r = df_r.replace({np.nan: 'None'})\n",
    "df_r = df_r[['Equipment type', 'Equipment Name', 'Maker', 'Type of Maintenance', 'Frequency', 'Parts Required']]\n",
    "df_r.columns = df_r.columns.str.lower().str.replace(' ', '_')"
   ]
  },
  {
   "cell_type": "code",
   "execution_count": 12,
   "id": "d9de5366-1279-4ae5-be3d-b4fc16192ffa",
   "metadata": {},
   "outputs": [
    {
     "name": "stdout",
     "output_type": "stream",
     "text": [
      "<class 'pandas.core.frame.DataFrame'>\n",
      "RangeIndex: 98 entries, 0 to 97\n",
      "Data columns (total 6 columns):\n",
      " #   Column               Non-Null Count  Dtype \n",
      "---  ------               --------------  ----- \n",
      " 0   equipment_type       98 non-null     object\n",
      " 1   equipment_name       98 non-null     object\n",
      " 2   maker                98 non-null     object\n",
      " 3   type_of_maintenance  98 non-null     object\n",
      " 4   frequency            98 non-null     object\n",
      " 5   parts_required       98 non-null     object\n",
      "dtypes: object(6)\n",
      "memory usage: 4.7+ KB\n"
     ]
    }
   ],
   "source": [
    "df_r.info()"
   ]
  },
  {
   "cell_type": "code",
   "execution_count": 24,
   "id": "a3003e71-7c24-4203-b040-a7995984e658",
   "metadata": {},
   "outputs": [
    {
     "data": {
      "text/html": [
       "<div>\n",
       "<style scoped>\n",
       "    .dataframe tbody tr th:only-of-type {\n",
       "        vertical-align: middle;\n",
       "    }\n",
       "\n",
       "    .dataframe tbody tr th {\n",
       "        vertical-align: top;\n",
       "    }\n",
       "\n",
       "    .dataframe thead th {\n",
       "        text-align: right;\n",
       "    }\n",
       "</style>\n",
       "<table border=\"1\" class=\"dataframe\">\n",
       "  <thead>\n",
       "    <tr style=\"text-align: right;\">\n",
       "      <th></th>\n",
       "      <th>equipment_type</th>\n",
       "      <th>equipment_name</th>\n",
       "      <th>maker</th>\n",
       "      <th>type_of_maintenance</th>\n",
       "      <th>frequency</th>\n",
       "      <th>parts_required</th>\n",
       "    </tr>\n",
       "  </thead>\n",
       "  <tbody>\n",
       "    <tr>\n",
       "      <th>0</th>\n",
       "      <td>Dishwasher</td>\n",
       "      <td>Series 6 SMS6ZCI48E</td>\n",
       "      <td>Bosch</td>\n",
       "      <td>Clean filter</td>\n",
       "      <td>Monthly</td>\n",
       "      <td>None</td>\n",
       "    </tr>\n",
       "    <tr>\n",
       "      <th>1</th>\n",
       "      <td>Dishwasher</td>\n",
       "      <td>WDT750SAKZ</td>\n",
       "      <td>Whirlpool</td>\n",
       "      <td>Descale</td>\n",
       "      <td>Quarterly</td>\n",
       "      <td>Descaling solution</td>\n",
       "    </tr>\n",
       "    <tr>\n",
       "      <th>2</th>\n",
       "      <td>Dishwasher</td>\n",
       "      <td>KDTM404KPS</td>\n",
       "      <td>KitchenAid</td>\n",
       "      <td>Check spray arms</td>\n",
       "      <td>Bi-monthly</td>\n",
       "      <td>None</td>\n",
       "    </tr>\n",
       "    <tr>\n",
       "      <th>3</th>\n",
       "      <td>Dishwasher</td>\n",
       "      <td>G 7316 SCU</td>\n",
       "      <td>Miele</td>\n",
       "      <td>Replace rinse aid</td>\n",
       "      <td>As needed</td>\n",
       "      <td>Rinse aid</td>\n",
       "    </tr>\n",
       "    <tr>\n",
       "      <th>4</th>\n",
       "      <td>Dishwasher</td>\n",
       "      <td>GDT665SSNSS</td>\n",
       "      <td>GE</td>\n",
       "      <td>Clean door seal</td>\n",
       "      <td>Monthly</td>\n",
       "      <td>Soft cloth</td>\n",
       "    </tr>\n",
       "  </tbody>\n",
       "</table>\n",
       "</div>"
      ],
      "text/plain": [
       "  equipment_type       equipment_name       maker type_of_maintenance  \\\n",
       "0     Dishwasher  Series 6 SMS6ZCI48E       Bosch        Clean filter   \n",
       "1     Dishwasher           WDT750SAKZ   Whirlpool             Descale   \n",
       "2     Dishwasher           KDTM404KPS  KitchenAid    Check spray arms   \n",
       "3     Dishwasher           G 7316 SCU       Miele   Replace rinse aid   \n",
       "4     Dishwasher          GDT665SSNSS          GE     Clean door seal   \n",
       "\n",
       "    frequency      parts_required  \n",
       "0     Monthly                None  \n",
       "1   Quarterly  Descaling solution  \n",
       "2  Bi-monthly                None  \n",
       "3   As needed           Rinse aid  \n",
       "4     Monthly          Soft cloth  "
      ]
     },
     "execution_count": 24,
     "metadata": {},
     "output_type": "execute_result"
    }
   ],
   "source": [
    "df.head()"
   ]
  },
  {
   "cell_type": "code",
   "execution_count": 93,
   "id": "b299f4b6-c438-442b-b476-519bc6823792",
   "metadata": {},
   "outputs": [],
   "source": [
    "df_all = pd.concat([df, df_r], ignore_index=True)"
   ]
  },
  {
   "cell_type": "code",
   "execution_count": 94,
   "id": "0d78bd32-fde9-4777-9dce-369ab8f19d5d",
   "metadata": {},
   "outputs": [],
   "source": [
    "df_all.insert(0,'id', df_all.index)"
   ]
  },
  {
   "cell_type": "code",
   "execution_count": 95,
   "id": "240cc3d0-df20-4b98-a666-448af915965c",
   "metadata": {},
   "outputs": [],
   "source": [
    "df_all.to_csv('..\\data\\data_cleaned.csv', index=False)"
   ]
  },
  {
   "cell_type": "code",
   "execution_count": 96,
   "id": "2c78d7fb-61d6-462a-96e4-ddcd88da89d2",
   "metadata": {},
   "outputs": [],
   "source": [
    "df_all = pd.read_csv('..\\data\\data_cleaned.csv')"
   ]
  },
  {
   "cell_type": "code",
   "execution_count": 97,
   "id": "7d818343-36db-4e02-889c-8dd4030eafc7",
   "metadata": {},
   "outputs": [],
   "source": [
    "df_all = df_all.replace({np.nan: 'None'})"
   ]
  },
  {
   "cell_type": "code",
   "execution_count": 98,
   "id": "f050bc81-76ad-44a3-a32a-8ce65a92f3c2",
   "metadata": {},
   "outputs": [],
   "source": [
    "df_all['id'] = df_all['id'].astype(str)"
   ]
  },
  {
   "cell_type": "code",
   "execution_count": 99,
   "id": "4a474ed1-4352-471b-aee7-4e7e6a9d9ea1",
   "metadata": {},
   "outputs": [
    {
     "name": "stdout",
     "output_type": "stream",
     "text": [
      "<class 'pandas.core.frame.DataFrame'>\n",
      "RangeIndex: 352 entries, 0 to 351\n",
      "Data columns (total 7 columns):\n",
      " #   Column               Non-Null Count  Dtype \n",
      "---  ------               --------------  ----- \n",
      " 0   id                   352 non-null    object\n",
      " 1   equipment_type       352 non-null    object\n",
      " 2   equipment_name       352 non-null    object\n",
      " 3   maker                352 non-null    object\n",
      " 4   type_of_maintenance  352 non-null    object\n",
      " 5   frequency            352 non-null    object\n",
      " 6   parts_required       352 non-null    object\n",
      "dtypes: object(7)\n",
      "memory usage: 19.4+ KB\n"
     ]
    }
   ],
   "source": [
    "df_all.info()"
   ]
  },
  {
   "cell_type": "code",
   "execution_count": 56,
   "id": "05e30ca7-acec-4867-853a-bafeb2a0c62c",
   "metadata": {},
   "outputs": [
    {
     "data": {
      "text/plain": [
       "array(['Dishwasher', 'Refregerator'], dtype=object)"
      ]
     },
     "execution_count": 56,
     "metadata": {},
     "output_type": "execute_result"
    }
   ],
   "source": [
    "df_all['equipment_type'].unique()"
   ]
  },
  {
   "cell_type": "code",
   "execution_count": 100,
   "id": "34f69198-9940-4393-95c7-47545f190f3f",
   "metadata": {},
   "outputs": [
    {
     "data": {
      "text/html": [
       "<div>\n",
       "<style scoped>\n",
       "    .dataframe tbody tr th:only-of-type {\n",
       "        vertical-align: middle;\n",
       "    }\n",
       "\n",
       "    .dataframe tbody tr th {\n",
       "        vertical-align: top;\n",
       "    }\n",
       "\n",
       "    .dataframe thead th {\n",
       "        text-align: right;\n",
       "    }\n",
       "</style>\n",
       "<table border=\"1\" class=\"dataframe\">\n",
       "  <thead>\n",
       "    <tr style=\"text-align: right;\">\n",
       "      <th></th>\n",
       "      <th>id</th>\n",
       "      <th>equipment_type</th>\n",
       "      <th>equipment_name</th>\n",
       "      <th>maker</th>\n",
       "      <th>type_of_maintenance</th>\n",
       "      <th>frequency</th>\n",
       "      <th>parts_required</th>\n",
       "    </tr>\n",
       "  </thead>\n",
       "  <tbody>\n",
       "    <tr>\n",
       "      <th>0</th>\n",
       "      <td>0</td>\n",
       "      <td>Dishwasher</td>\n",
       "      <td>Series 6 SMS6ZCI48E</td>\n",
       "      <td>Bosch</td>\n",
       "      <td>Clean filter</td>\n",
       "      <td>Monthly</td>\n",
       "      <td>None</td>\n",
       "    </tr>\n",
       "    <tr>\n",
       "      <th>1</th>\n",
       "      <td>1</td>\n",
       "      <td>Dishwasher</td>\n",
       "      <td>WDT750SAKZ</td>\n",
       "      <td>Whirlpool</td>\n",
       "      <td>Descale</td>\n",
       "      <td>Quarterly</td>\n",
       "      <td>Descaling solution</td>\n",
       "    </tr>\n",
       "    <tr>\n",
       "      <th>2</th>\n",
       "      <td>2</td>\n",
       "      <td>Dishwasher</td>\n",
       "      <td>KDTM404KPS</td>\n",
       "      <td>KitchenAid</td>\n",
       "      <td>Check spray arms</td>\n",
       "      <td>Bi-monthly</td>\n",
       "      <td>None</td>\n",
       "    </tr>\n",
       "    <tr>\n",
       "      <th>3</th>\n",
       "      <td>3</td>\n",
       "      <td>Dishwasher</td>\n",
       "      <td>G 7316 SCU</td>\n",
       "      <td>Miele</td>\n",
       "      <td>Replace rinse aid</td>\n",
       "      <td>As needed</td>\n",
       "      <td>Rinse aid</td>\n",
       "    </tr>\n",
       "    <tr>\n",
       "      <th>4</th>\n",
       "      <td>4</td>\n",
       "      <td>Dishwasher</td>\n",
       "      <td>GDT665SSNSS</td>\n",
       "      <td>GE</td>\n",
       "      <td>Clean door seal</td>\n",
       "      <td>Monthly</td>\n",
       "      <td>Soft cloth</td>\n",
       "    </tr>\n",
       "  </tbody>\n",
       "</table>\n",
       "</div>"
      ],
      "text/plain": [
       "  id equipment_type       equipment_name       maker type_of_maintenance  \\\n",
       "0  0     Dishwasher  Series 6 SMS6ZCI48E       Bosch        Clean filter   \n",
       "1  1     Dishwasher           WDT750SAKZ   Whirlpool             Descale   \n",
       "2  2     Dishwasher           KDTM404KPS  KitchenAid    Check spray arms   \n",
       "3  3     Dishwasher           G 7316 SCU       Miele   Replace rinse aid   \n",
       "4  4     Dishwasher          GDT665SSNSS          GE     Clean door seal   \n",
       "\n",
       "    frequency      parts_required  \n",
       "0     Monthly                None  \n",
       "1   Quarterly  Descaling solution  \n",
       "2  Bi-monthly                None  \n",
       "3   As needed           Rinse aid  \n",
       "4     Monthly          Soft cloth  "
      ]
     },
     "execution_count": 100,
     "metadata": {},
     "output_type": "execute_result"
    }
   ],
   "source": [
    "df_all.head()"
   ]
  },
  {
   "cell_type": "code",
   "execution_count": 103,
   "id": "2b01e394-a226-4406-82c7-204985f038a2",
   "metadata": {},
   "outputs": [],
   "source": [
    "documents = df_all.to_dict(orient='records')"
   ]
  },
  {
   "cell_type": "code",
   "execution_count": 104,
   "id": "e69c5f3a-adea-4a0c-9448-4419733682c1",
   "metadata": {},
   "outputs": [],
   "source": [
    "import minsearch"
   ]
  },
  {
   "cell_type": "code",
   "execution_count": 109,
   "id": "8a9dc4d5-242c-4254-a914-3fabce369e14",
   "metadata": {},
   "outputs": [],
   "source": [
    "index = minsearch.Index(\n",
    "    text_fields=['id','equipment_type', 'equipment_name', 'maker', 'type_of_maintenance', 'frequency',\n",
    "       'parts_required'],\n",
    "    keyword_fields=[]\n",
    ")"
   ]
  },
  {
   "cell_type": "code",
   "execution_count": 110,
   "id": "0105037f-b4ac-491f-9064-c95ddc02c23c",
   "metadata": {},
   "outputs": [
    {
     "data": {
      "text/plain": [
       "<minsearch.Index at 0x27b6bd7b220>"
      ]
     },
     "execution_count": 110,
     "metadata": {},
     "output_type": "execute_result"
    }
   ],
   "source": [
    "index.fit(documents)"
   ]
  },
  {
   "cell_type": "code",
   "execution_count": 111,
   "id": "b2ceb970-1ae3-4853-8e3c-541081127b5d",
   "metadata": {},
   "outputs": [],
   "source": [
    "question = \"give me annual maintenance and required parts for Samsung Dishwasher\""
   ]
  },
  {
   "cell_type": "code",
   "execution_count": 112,
   "id": "bff4522e-f047-4307-b672-bb44bc78e23e",
   "metadata": {},
   "outputs": [],
   "source": [
    "boost = {'question':3.0, 'section':.5}\n",
    "#knowledge_results = index.search(query=question, filter_dict={'equipment_name':'DW80R7061UG'},\n",
    "#                       boost_dict=boost, num_results=5)\n",
    "#knowledge_results = index.search(query=question\n",
    "#                       boost_dict=boost, num_results=5)\n",
    "documents = index.search(query=question, num_results=5)"
   ]
  },
  {
   "cell_type": "code",
   "execution_count": 113,
   "id": "ceb4e3de-08af-4f53-a6dc-541dec15136d",
   "metadata": {},
   "outputs": [
    {
     "data": {
      "text/plain": [
       "[{'id': '55',\n",
       "  'equipment_type': 'Dishwasher',\n",
       "  'equipment_name': 'DW80R5061US',\n",
       "  'maker': 'Samsung',\n",
       "  'type_of_maintenance': 'Check for error codes',\n",
       "  'frequency': 'Monthly',\n",
       "  'parts_required': 'None'},\n",
       " {'id': '135',\n",
       "  'equipment_type': 'Dishwasher',\n",
       "  'equipment_name': 'DW80R5060US',\n",
       "  'maker': 'Samsung',\n",
       "  'type_of_maintenance': 'Check for error codes',\n",
       "  'frequency': 'Monthly',\n",
       "  'parts_required': 'None'},\n",
       " {'id': '189',\n",
       "  'equipment_type': 'Dishwasher',\n",
       "  'equipment_name': 'DW80R5061US',\n",
       "  'maker': 'Samsung',\n",
       "  'type_of_maintenance': 'Inspect and clean door hinges',\n",
       "  'frequency': 'Bi-annually',\n",
       "  'parts_required': 'None'},\n",
       " {'id': '159',\n",
       "  'equipment_type': 'Dishwasher',\n",
       "  'equipment_name': 'DW80R7070UG',\n",
       "  'maker': 'Samsung',\n",
       "  'type_of_maintenance': 'Inspect and clean sump filter',\n",
       "  'frequency': 'Monthly',\n",
       "  'parts_required': 'None'},\n",
       " {'id': '179',\n",
       "  'equipment_type': 'Dishwasher',\n",
       "  'equipment_name': 'DW80K7050UG',\n",
       "  'maker': 'Samsung',\n",
       "  'type_of_maintenance': 'Clean and sanitize door gasket',\n",
       "  'frequency': 'Monthly',\n",
       "  'parts_required': 'Sanitizing solution'}]"
      ]
     },
     "execution_count": 113,
     "metadata": {},
     "output_type": "execute_result"
    }
   ],
   "source": [
    "documents"
   ]
  },
  {
   "cell_type": "code",
   "execution_count": null,
   "id": "c0012d00-46be-4017-960e-5918be9af989",
   "metadata": {},
   "outputs": [],
   "source": [
    "equipment_name: {equipment_name},\n",
    "maker: {maker},\n",
    "type_of_maintenance: {type_of_maintenance},\n",
    "frequency: {frequency},\n",
    "parts_required: {parts_required}"
   ]
  },
  {
   "cell_type": "code",
   "execution_count": 59,
   "id": "2e52f67a-ea42-4039-abf5-7485d555a3eb",
   "metadata": {},
   "outputs": [
    {
     "data": {
      "text/plain": [
       "array(['DW80R9950UG', 'DW80R2031US', 'DW80R7061UG', 'DW80R5060US',\n",
       "       'DW80J3020US', 'DW80R5061US', 'DW80R9950UT', 'DW80R7061US',\n",
       "       'DW80J7550US', 'DW80R7070UG', 'DW80R9350UG', 'DW80K7050UG',\n",
       "       'DW80K5050US', 'RF23A9771SR', 'RF28R7351SR', 'RF23M8070SR',\n",
       "       'RF28R6301SR', 'RF23A9771SG', 'RF28T5001SR', 'RF28R7351SG',\n",
       "       'RF23M8090SG', 'RF28T5001SG'], dtype=object)"
      ]
     },
     "execution_count": 59,
     "metadata": {},
     "output_type": "execute_result"
    }
   ],
   "source": [
    "df_all[df_all['maker'] == 'Samsung']['equipment_name'].unique()"
   ]
  },
  {
   "cell_type": "code",
   "execution_count": 85,
   "id": "6b55d7f3-2ffc-4638-984c-bf943916ff12",
   "metadata": {},
   "outputs": [],
   "source": [
    "from openai import OpenAI\n",
    "import openai"
   ]
  },
  {
   "cell_type": "code",
   "execution_count": 86,
   "id": "a61ccfcd-d471-472c-9b09-7a79b46f378e",
   "metadata": {},
   "outputs": [],
   "source": [
    "import os\n",
    "from dotenv import load_dotenv\n",
    "from pathlib import Path\n",
    "\n",
    "env_path = Path('../.env')\n",
    "\n",
    "# Load the .env file\n",
    "load_dotenv(dotenv_path=env_path)\n",
    "\n",
    "# Get the API key\n",
    "openai_api_key = os.getenv(\"OPENAI_API_KEY\")\n",
    "\n",
    "os.environ['OPENAI_API_KEY'] = openai_api_key\n",
    "client = OpenAI()"
   ]
  },
  {
   "cell_type": "code",
   "execution_count": 87,
   "id": "24cc1642-6929-41d0-97f6-61c807ca79a7",
   "metadata": {},
   "outputs": [],
   "source": [
    "def search(query):\n",
    "    boost = {} #{'question':3.0, 'section':.5}\n",
    "    knowledge_results = index.search(query=query, \n",
    "                                     filter_dict={}, #{'course':'data-engineering-zoomcamp'},\n",
    "                                     boost_dict=boost, num_results=10)\n",
    "    return knowledge_results"
   ]
  },
  {
   "cell_type": "code",
   "execution_count": 88,
   "id": "fbcd10ae-1436-4a12-a479-8070de546571",
   "metadata": {},
   "outputs": [],
   "source": [
    "entry_template = '''\n",
    "equipment_name: {equipment_name},\n",
    "maker: {maker},\n",
    "type_of_maintenance: {type_of_maintenance},\n",
    "frequency: {frequency},\n",
    "parts_required: {parts_required}\n",
    "'''.strip()\n",
    "def create_prompt(knowledge_results, query):\n",
    "    context=''\n",
    "    for doc in knowledge_results:\n",
    "        context = context + entry_template.format(**doc) + '\\n\\n'\n",
    "    prompt = f\"\"\"\n",
    "    You're a appliance repair assistant. Answer the user QUESTION based on CONTEXT - the documents retrieved from our database. \n",
    "    Only use the facts from the CONTEXT. If the CONTEXT doesn't contan the answer, return \"NONE\"\n",
    "                \n",
    "    QUESTION: {question}\n",
    "                \n",
    "    CONTEXT:\n",
    "                \n",
    "    {context}\n",
    "    \"\"\".strip()\n",
    "    prompt = prompt.format(question=query, context=context)\n",
    "    return prompt\n",
    "    "
   ]
  },
  {
   "cell_type": "code",
   "execution_count": 89,
   "id": "d7e61a99-a026-4305-861e-8dd5ce5241fb",
   "metadata": {},
   "outputs": [],
   "source": [
    "def llm(prompt, client):\n",
    "    response = client.chat.completions.create(\n",
    "        model=\"gpt-3.5-turbo\",    \n",
    "        messages=[{\"role\": \"user\", \"content\": prompt}]\n",
    "    )\n",
    "    return (response.choices[0].message.content)"
   ]
  },
  {
   "cell_type": "code",
   "execution_count": 90,
   "id": "5891846f-d155-4863-9855-412f52804bb8",
   "metadata": {},
   "outputs": [],
   "source": [
    "def rag(query, client):\n",
    "    knowledge_results = search(query)\n",
    "    prompt = create_prompt(knowledge_results, query)\n",
    "    return llm(prompt, client)"
   ]
  },
  {
   "cell_type": "code",
   "execution_count": 114,
   "id": "3588a627-699c-4e07-80fb-6fa665dcba43",
   "metadata": {},
   "outputs": [
    {
     "data": {
      "text/plain": [
       "'For the Samsung Dishwasher model DW80R5061US, the annual maintenance includes checking for error codes, and no parts are required.'"
      ]
     },
     "execution_count": 114,
     "metadata": {},
     "output_type": "execute_result"
    }
   ],
   "source": [
    "rag(question, client)"
   ]
  },
  {
   "cell_type": "code",
   "execution_count": 57,
   "id": "54e90571-2b62-4013-8e60-bd69c38b39b2",
   "metadata": {},
   "outputs": [],
   "source": [
    "#https://www.datacamp.com/tutorial/chromadb-tutorial-step-by-step-guide\n",
    "#https://www.datacamp.com/tutorial/introduction-to-text-embeddings-with-the-open-ai-api"
   ]
  },
  {
   "cell_type": "code",
   "execution_count": 61,
   "id": "6b4384f2-45c5-44dc-8324-9f249cc2a405",
   "metadata": {},
   "outputs": [],
   "source": [
    "import chromadb\n",
    "from chromadb.config import Settings\n",
    "\n",
    "\n",
    "client = chromadb.Client()"
   ]
  },
  {
   "cell_type": "code",
   "execution_count": null,
   "id": "cc8414ec-bad9-4a1a-9250-1cf4cfaa508f",
   "metadata": {},
   "outputs": [],
   "source": []
  }
 ],
 "metadata": {
  "kernelspec": {
   "display_name": "Python 3 (ipykernel)",
   "language": "python",
   "name": "python3"
  },
  "language_info": {
   "codemirror_mode": {
    "name": "ipython",
    "version": 3
   },
   "file_extension": ".py",
   "mimetype": "text/x-python",
   "name": "python",
   "nbconvert_exporter": "python",
   "pygments_lexer": "ipython3",
   "version": "3.9.13"
  }
 },
 "nbformat": 4,
 "nbformat_minor": 5
}
